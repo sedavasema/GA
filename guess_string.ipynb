{
  "nbformat": 4,
  "nbformat_minor": 0,
  "metadata": {
    "colab": {
      "provenance": [],
      "authorship_tag": "ABX9TyNV5FOgNCdsEA3sULHV2YSf",
      "include_colab_link": true
    },
    "kernelspec": {
      "name": "python3",
      "display_name": "Python 3"
    },
    "language_info": {
      "name": "python"
    }
  },
  "cells": [
    {
      "cell_type": "markdown",
      "metadata": {
        "id": "view-in-github",
        "colab_type": "text"
      },
      "source": [
        "<a href=\"https://colab.research.google.com/github/sedavasema/GA/blob/main/guess_string.ipynb\" target=\"_parent\"><img src=\"https://colab.research.google.com/assets/colab-badge.svg\" alt=\"Open In Colab\"/></a>"
      ]
    },
    {
      "cell_type": "code",
      "source": [
        "from google.colab import drive\n",
        "drive.mount('/content/drive')"
      ],
      "metadata": {
        "colab": {
          "base_uri": "https://localhost:8080/"
        },
        "id": "vlc18CBVqqeI",
        "outputId": "c948eb54-bdfc-4e99-e1dd-d8d497517058"
      },
      "execution_count": 1,
      "outputs": [
        {
          "output_type": "stream",
          "name": "stdout",
          "text": [
            "Drive already mounted at /content/drive; to attempt to forcibly remount, call drive.mount(\"/content/drive\", force_remount=True).\n"
          ]
        }
      ]
    },
    {
      "cell_type": "code",
      "source": [
        "%cd '/content/drive/My Drive/Colab Notebooks/'"
      ],
      "metadata": {
        "colab": {
          "base_uri": "https://localhost:8080/"
        },
        "id": "C2KwVlUn_7Yj",
        "outputId": "9151557f-82f1-48a2-ea98-5cf23ab733ea"
      },
      "execution_count": 5,
      "outputs": [
        {
          "output_type": "stream",
          "name": "stdout",
          "text": [
            "/content/drive/My Drive/Colab Notebooks\n"
          ]
        }
      ]
    },
    {
      "cell_type": "code",
      "source": [
        "%pwd"
      ],
      "metadata": {
        "colab": {
          "base_uri": "https://localhost:8080/",
          "height": 35
        },
        "id": "KbGGpJ8vtHu4",
        "outputId": "706beb59-78ec-47ff-f3db-c662aa4b3f33"
      },
      "execution_count": 6,
      "outputs": [
        {
          "output_type": "execute_result",
          "data": {
            "text/plain": [
              "'/content/drive/My Drive/Colab Notebooks'"
            ],
            "application/vnd.google.colaboratory.intrinsic+json": {
              "type": "string"
            }
          },
          "metadata": {},
          "execution_count": 6
        }
      ]
    },
    {
      "cell_type": "code",
      "source": [
        "!pip install import_ipynb\n",
        "!pip install ipynb"
      ],
      "metadata": {
        "colab": {
          "base_uri": "https://localhost:8080/"
        },
        "id": "f4t_AxdV4_oS",
        "outputId": "99ffba8e-cbe0-4ce1-bf89-6bfe8c0dfa42"
      },
      "execution_count": 7,
      "outputs": [
        {
          "output_type": "stream",
          "name": "stdout",
          "text": [
            "Requirement already satisfied: import_ipynb in /usr/local/lib/python3.10/dist-packages (0.1.4)\n",
            "Requirement already satisfied: IPython in /usr/local/lib/python3.10/dist-packages (from import_ipynb) (7.34.0)\n",
            "Requirement already satisfied: nbformat in /usr/local/lib/python3.10/dist-packages (from import_ipynb) (5.9.2)\n",
            "Requirement already satisfied: setuptools>=18.5 in /usr/local/lib/python3.10/dist-packages (from IPython->import_ipynb) (67.7.2)\n",
            "Requirement already satisfied: jedi>=0.16 in /usr/local/lib/python3.10/dist-packages (from IPython->import_ipynb) (0.19.1)\n",
            "Requirement already satisfied: decorator in /usr/local/lib/python3.10/dist-packages (from IPython->import_ipynb) (4.4.2)\n",
            "Requirement already satisfied: pickleshare in /usr/local/lib/python3.10/dist-packages (from IPython->import_ipynb) (0.7.5)\n",
            "Requirement already satisfied: traitlets>=4.2 in /usr/local/lib/python3.10/dist-packages (from IPython->import_ipynb) (5.7.1)\n",
            "Requirement already satisfied: prompt-toolkit!=3.0.0,!=3.0.1,<3.1.0,>=2.0.0 in /usr/local/lib/python3.10/dist-packages (from IPython->import_ipynb) (3.0.39)\n",
            "Requirement already satisfied: pygments in /usr/local/lib/python3.10/dist-packages (from IPython->import_ipynb) (2.16.1)\n",
            "Requirement already satisfied: backcall in /usr/local/lib/python3.10/dist-packages (from IPython->import_ipynb) (0.2.0)\n",
            "Requirement already satisfied: matplotlib-inline in /usr/local/lib/python3.10/dist-packages (from IPython->import_ipynb) (0.1.6)\n",
            "Requirement already satisfied: pexpect>4.3 in /usr/local/lib/python3.10/dist-packages (from IPython->import_ipynb) (4.8.0)\n",
            "Requirement already satisfied: fastjsonschema in /usr/local/lib/python3.10/dist-packages (from nbformat->import_ipynb) (2.18.1)\n",
            "Requirement already satisfied: jsonschema>=2.6 in /usr/local/lib/python3.10/dist-packages (from nbformat->import_ipynb) (4.19.2)\n",
            "Requirement already satisfied: jupyter-core in /usr/local/lib/python3.10/dist-packages (from nbformat->import_ipynb) (5.5.0)\n",
            "Requirement already satisfied: parso<0.9.0,>=0.8.3 in /usr/local/lib/python3.10/dist-packages (from jedi>=0.16->IPython->import_ipynb) (0.8.3)\n",
            "Requirement already satisfied: attrs>=22.2.0 in /usr/local/lib/python3.10/dist-packages (from jsonschema>=2.6->nbformat->import_ipynb) (23.1.0)\n",
            "Requirement already satisfied: jsonschema-specifications>=2023.03.6 in /usr/local/lib/python3.10/dist-packages (from jsonschema>=2.6->nbformat->import_ipynb) (2023.7.1)\n",
            "Requirement already satisfied: referencing>=0.28.4 in /usr/local/lib/python3.10/dist-packages (from jsonschema>=2.6->nbformat->import_ipynb) (0.30.2)\n",
            "Requirement already satisfied: rpds-py>=0.7.1 in /usr/local/lib/python3.10/dist-packages (from jsonschema>=2.6->nbformat->import_ipynb) (0.12.0)\n",
            "Requirement already satisfied: ptyprocess>=0.5 in /usr/local/lib/python3.10/dist-packages (from pexpect>4.3->IPython->import_ipynb) (0.7.0)\n",
            "Requirement already satisfied: wcwidth in /usr/local/lib/python3.10/dist-packages (from prompt-toolkit!=3.0.0,!=3.0.1,<3.1.0,>=2.0.0->IPython->import_ipynb) (0.2.9)\n",
            "Requirement already satisfied: platformdirs>=2.5 in /usr/local/lib/python3.10/dist-packages (from jupyter-core->nbformat->import_ipynb) (3.11.0)\n",
            "Requirement already satisfied: ipynb in /usr/local/lib/python3.10/dist-packages (0.5.1)\n"
          ]
        }
      ]
    },
    {
      "cell_type": "code",
      "source": [
        "import import_ipynb\n",
        "import ipynb"
      ],
      "metadata": {
        "id": "m48Pv8dB5MvR"
      },
      "execution_count": 8,
      "outputs": []
    },
    {
      "cell_type": "code",
      "source": [
        "import GA_Engin"
      ],
      "metadata": {
        "id": "-janLyotoUfn"
      },
      "execution_count": 37,
      "outputs": []
    },
    {
      "cell_type": "code",
      "source": [
        "import datetime"
      ],
      "metadata": {
        "id": "HTA3VQYB5N8B"
      },
      "execution_count": 10,
      "outputs": []
    },
    {
      "cell_type": "code",
      "source": [
        "def test_string():\n",
        "  target='hello my Friend!'\n",
        "  guess_string(target)\n"
      ],
      "metadata": {
        "id": "Y0vvIcza6QFA"
      },
      "execution_count": 32,
      "outputs": []
    },
    {
      "cell_type": "code",
      "source": [
        "def guess_string(target):\n",
        "  geneSet=' abcdefghijklmnopqrstuvwxyzABCDEFJHIJKLMNOPQRSTUVWXYZ!'\n",
        "  starttime=datetime.datetime.now()\n",
        "  def fnfitness(genes):\n",
        "    return get_fitness(genes,target)\n",
        "  def fndisplay(genes):\n",
        "    display(genes,target,starttime)\n",
        "  optimalfitness=len(target)\n",
        "  GA_Engin.get_best(fnfitness,len(target),optimalfitness,geneSet,fndisplay)\n",
        "\n",
        "\n",
        "def display(genes,target,starttime):\n",
        "  timeD=datetime.datetime.now()-starttime\n",
        "  fitness=get_fitness(genes,target)\n",
        "  print('parent is: {0}\\t and fitnes is: {1}\\t and time is:\\t{2}'.format(genes,fitness,timeD))\n",
        "\n",
        "\n",
        "def get_fitness(genes,target):\n",
        "   zipcode=zip(genes,target)\n",
        "   i=0\n",
        "   for expected,actuale in (zipcode):\n",
        "      if expected==actuale:\n",
        "        i+=1\n",
        "   return i"
      ],
      "metadata": {
        "id": "vcXmpkEe6xLx"
      },
      "execution_count": 39,
      "outputs": []
    },
    {
      "cell_type": "code",
      "source": [
        "if __name__== '__main__':\n",
        "  test_string()"
      ],
      "metadata": {
        "colab": {
          "base_uri": "https://localhost:8080/"
        },
        "id": "JoBfnX_LCgL9",
        "outputId": "34e790fa-9700-43c6-e2fc-a537bc0d09cc"
      },
      "execution_count": 40,
      "outputs": [
        {
          "output_type": "stream",
          "name": "stdout",
          "text": [
            "parent is: lOmYozuPWMZrpTHA\t and fitnes is: 1\t and time is:\t0:00:00.000118\n",
            "parent is: lOmYozuPWMZipTHA\t and fitnes is: 2\t and time is:\t0:00:00.001456\n",
            "parent is: lOmYo uPWMZipTHA\t and fitnes is: 3\t and time is:\t0:00:00.002946\n",
            "parent is: lOmYo uPWMZieTHA\t and fitnes is: 4\t and time is:\t0:00:00.005666\n",
            "parent is: lOmYo uP MZieTHA\t and fitnes is: 5\t and time is:\t0:00:00.006224\n",
            "parent is: lOmYo uP MZieTH!\t and fitnes is: 6\t and time is:\t0:00:00.006632\n",
            "parent is: hOmYo uP MZieTH!\t and fitnes is: 7\t and time is:\t0:00:00.007321\n",
            "parent is: hOmYo uP MZieTd!\t and fitnes is: 8\t and time is:\t0:00:00.008609\n",
            "parent is: hOlYo uP MZieTd!\t and fitnes is: 9\t and time is:\t0:00:00.010454\n",
            "parent is: helYo uP MZieTd!\t and fitnes is: 10\t and time is:\t0:00:00.011686\n",
            "parent is: helYo uP FZieTd!\t and fitnes is: 11\t and time is:\t0:00:00.013352\n",
            "parent is: helYo uy FZieTd!\t and fitnes is: 12\t and time is:\t0:00:00.014088\n",
            "parent is: helYo uy FZiend!\t and fitnes is: 13\t and time is:\t0:00:00.017184\n",
            "parent is: helYo uy Friend!\t and fitnes is: 14\t and time is:\t0:00:00.017829\n",
            "parent is: hello uy Friend!\t and fitnes is: 15\t and time is:\t0:00:00.024477\n",
            "parent is: hello my Friend!\t and fitnes is: 16\t and time is:\t0:00:00.028378\n"
          ]
        }
      ]
    }
  ]
}