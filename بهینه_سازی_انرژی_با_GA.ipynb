{
  "nbformat": 4,
  "nbformat_minor": 0,
  "metadata": {
    "colab": {
      "provenance": [],
      "authorship_tag": "ABX9TyM4V0PdCItCRHePK26bRhE2",
      "include_colab_link": true
    },
    "kernelspec": {
      "name": "python3",
      "display_name": "Python 3"
    },
    "language_info": {
      "name": "python"
    }
  },
  "cells": [
    {
      "cell_type": "markdown",
      "metadata": {
        "id": "view-in-github",
        "colab_type": "text"
      },
      "source": [
        "<a href=\"https://colab.research.google.com/github/sedavasema/GA/blob/main/%D8%A8%D9%87%DB%8C%D9%86%D9%87_%D8%B3%D8%A7%D8%B2%DB%8C_%D8%A7%D9%86%D8%B1%DA%98%DB%8C_%D8%A8%D8%A7_GA.ipynb\" target=\"_parent\"><img src=\"https://colab.research.google.com/assets/colab-badge.svg\" alt=\"Open In Colab\"/></a>"
      ]
    },
    {
      "cell_type": "code",
      "execution_count": 9,
      "metadata": {
        "id": "cn3he7BmOT5Q"
      },
      "outputs": [],
      "source": [
        "class vm():\n",
        "  def __init__(self,VM_name,RAM,MIPS):\n",
        "    self.VM_name=VM_name\n",
        "    self.RAM=RAM\n",
        "    self.MIPS=MIPS"
      ]
    },
    {
      "cell_type": "code",
      "source": [
        "vm_list = []\n",
        "vm_list.append(vm('VM1', 2, 120))\n",
        "vm_list.append(vm('VM2', 4, 100))\n",
        "vm_list.append(vm('VM3', 3, 150))\n",
        "vm_list.append(vm(\"VM4\", 7, 200))\n",
        "vm_list.append(vm(\"VM5\", 1, 180))\n",
        "vm_list.append(vm(\"VM6\", 9, 350))\n",
        "vm_list.append(vm(\"VM7\", 5, 210))\n",
        "vm_list.append(vm(\"VM8\", 8, 400))\n",
        "vm_list.append(vm(\"VM9\", 2, 110))\n",
        "vm_list.append(vm(\"VM10\",6, 240))\n"
      ],
      "metadata": {
        "id": "nNrvo8p4Tiep"
      },
      "execution_count": 10,
      "outputs": []
    },
    {
      "cell_type": "code",
      "source": [
        "for vm in vm_list:\n",
        "  print (vm.VM_name,'-', vm.RAM,'-', vm.MIPS)"
      ],
      "metadata": {
        "colab": {
          "base_uri": "https://localhost:8080/"
        },
        "id": "_m7_WJDFYmpP",
        "outputId": "5c9f8f5a-620b-46ac-d670-65799fdc6a96"
      },
      "execution_count": 11,
      "outputs": [
        {
          "output_type": "stream",
          "name": "stdout",
          "text": [
            "VM1 - 2 - 120\n",
            "VM2 - 4 - 100\n",
            "VM3 - 3 - 150\n",
            "VM4 - 7 - 200\n",
            "VM5 - 1 - 180\n",
            "VM6 - 9 - 350\n",
            "VM7 - 5 - 210\n",
            "VM8 - 8 - 400\n",
            "VM9 - 2 - 110\n",
            "VM10 - 6 - 240\n"
          ]
        }
      ]
    },
    {
      "cell_type": "code",
      "source": [
        "NAMES=[]\n",
        "RAMS=[]\n",
        "MIPSS=[]\n",
        "RAM_limit=16\n",
        "PIMS_limit=800\n",
        "\n",
        "for p in vm_list:\n",
        "  NAMES.append(p.VM_name)\n",
        "  RAMS.append(p.RAM)\n",
        "  MIPSS.append(p.MIPS)\n",
        "\n",
        "print(NAMES)\n",
        "print(RAMS)\n",
        "print(MIPSS)\n"
      ],
      "metadata": {
        "colab": {
          "base_uri": "https://localhost:8080/"
        },
        "id": "INU75_nqYv_O",
        "outputId": "1f71916e-101b-4df9-bff1-06338904352b"
      },
      "execution_count": 147,
      "outputs": [
        {
          "output_type": "stream",
          "name": "stdout",
          "text": [
            "['VM1', 'VM2', 'VM3', 'VM4', 'VM5', 'VM6', 'VM7', 'VM8', 'VM9', 'VM10']\n",
            "[2, 4, 3, 7, 1, 9, 5, 8, 2, 6]\n",
            "[120, 100, 150, 200, 180, 350, 210, 400, 110, 240]\n"
          ]
        }
      ]
    },
    {
      "cell_type": "code",
      "source": [
        "import random"
      ],
      "metadata": {
        "id": "-PqtZB58bTMB"
      },
      "execution_count": 15,
      "outputs": []
    },
    {
      "cell_type": "code",
      "source": [
        "class Individual():\n",
        "  def __init__(self, RAMS, MIPSS, RAM_limit,PIMS_limit,generation=0):\n",
        "    self.RAMS = RAMS\n",
        "    self.MIPSS = MIPSS\n",
        "    self.RAM_limit = RAM_limit\n",
        "    self.PIMS_limit = PIMS_limit\n",
        "    self.score_evaluation = 0\n",
        "    self.used_RAM = 0\n",
        "    self.used_MIPS = 0\n",
        "    self.generation = generation\n",
        "    self.chromosome = []\n",
        "\n",
        "    for i in range(len(self.RAMS)):\n",
        "      ch=random.randrange(1,6)\n",
        "      self.chromosome.append(ch)\n",
        "\n",
        "\n",
        "  def fitness(self):\n",
        "    score = 1000\n",
        "    self.sum_ram_pm1 = 0\n",
        "    self.sum_mips_pm1 = 0\n",
        "    self.sum_ram_pm2 = 0\n",
        "    self.sum_mips_pm2 = 0\n",
        "    self.sum_ram_pm3 = 0\n",
        "    self.sum_mips_pm3 = 0\n",
        "    self.sum_ram_pm4 = 0\n",
        "    self.sum_mips_pm4 = 0\n",
        "    self.sum_ram_pm5= 0\n",
        "    self.sum_mips_pm5 = 0\n",
        "    for i in range(len(self.chromosome)):\n",
        "      if self.chromosome[i] == 1:\n",
        "        self.sum_ram_pm1 += self.RAMS[i]\n",
        "        self.sum_mips_pm1 += self.MIPSS[i]\n",
        "      if self.chromosome[i] == 2:\n",
        "        self.sum_ram_pm2 += self.RAMS[i]\n",
        "        self.sum_mips_pm2 += self.MIPSS[i]\n",
        "      if self.chromosome[i] == 3:\n",
        "        self.sum_ram_pm3 += self.RAMS[i]\n",
        "        self.sum_mips_pm3 += self.MIPSS[i]\n",
        "      if self.chromosome[i] == 4:\n",
        "        self.sum_ram_pm4 += self.RAMS[i]\n",
        "        self.sum_mips_pm4 += self.MIPSS[i]\n",
        "      if self.chromosome[i] == 5:\n",
        "        self.sum_ram_pm5 += self.RAMS[i]\n",
        "        self.sum_mips_pm5 += self.MIPSS[i]\n",
        "    if self.sum_ram_pm1 or self.sum_ram_pm2 or self.sum_ram_pm3 or self.sum_ram_pm4 or self.sum_ram_pm5 > self.RAM_limit:\n",
        "      score = 100\n",
        "    if self.sum_mips_pm1 or self.sum_mips_pm2 or self.sum_mips_pm3 or self.sum_mips_pm4 or self.sum_mips_pm5 > self.PIMS_limit:\n",
        "      score = 100\n",
        "    score=len(list(set(self.chromosome)))\n",
        "    self.score_evaluation = score\n",
        "  def crossover(self, other_individual):\n",
        "    cutoff = round(random.random() * len(self.chromosome))\n",
        "    print('cutoff is:',cutoff)\n",
        "\n",
        "    child1_chromosome = other_individual.chromosome[0:cutoff] + self.chromosome[cutoff::]\n",
        "    child2_chromosome = self.chromosome[0:cutoff] + other_individual.chromosome[cutoff::]\n",
        "    #print(child1_chromosome)\n",
        "    #print(child2_chromosome)\n",
        "    children = [Individual(self.RAMS,self.MIPSS,self.RAM_limit,self.PIMS_limit, self.generation + 1),\n",
        "                Individual(self.RAMS,self.MIPSS,self.RAM_limit,self.PIMS_limit, self.generation + 1)]\n",
        "    children[0].chromosome = child1_chromosome\n",
        "    children[1].chromosome = child2_chromosome\n",
        "    return children\n",
        "  def mutation(self, rate):\n",
        "    print('Before:', self.chromosome)\n",
        "    for i in range(len(self.chromosome)):\n",
        "      if random.random() < rate:\n",
        "        if self.chromosome[i] == 1:\n",
        "          self.chromosome[i] = 2\n",
        "        elif self.chromosome[i] == 2:\n",
        "          self.chromosome[i] = 3\n",
        "        else:\n",
        "          self.chromosome[i] = 1\n",
        "    print('After: ', self.chromosome)\n",
        "    return self\n",
        "\n",
        "\n",
        ""
      ],
      "metadata": {
        "id": "gIiCWiF1bjK6"
      },
      "execution_count": 158,
      "outputs": []
    },
    {
      "cell_type": "code",
      "source": [
        "class GeneticAlgorithm():\n",
        "  def __init__(self, population_size):\n",
        "    self.population_size = population_size\n",
        "    self.population = []\n",
        "    self.generation = 0\n",
        "    self.best_solution = None\n",
        "    self.list_of_solutions = []\n",
        "\n",
        "  def initialize_population(self, RAMS, MIPSS, RAM_limit,PIMS_limit):\n",
        "    for i in range(self.population_size):\n",
        "      self.population.append(Individual(RAMS, MIPSS, RAM_limit,PIMS_limit))\n",
        "    self.best_solution = self.population[0]\n",
        "  def order_population(self):\n",
        "    self.population = sorted(self.population, key=lambda population:   population.score_evaluation, reverse=False)\n"
      ],
      "metadata": {
        "id": "T2vn0X93_691"
      },
      "execution_count": 170,
      "outputs": []
    },
    {
      "cell_type": "code",
      "source": [
        "population_size=200\n",
        "ga=GeneticAlgorithm(population_size)"
      ],
      "metadata": {
        "id": "-O8UFeCNCRwN"
      },
      "execution_count": 182,
      "outputs": []
    },
    {
      "cell_type": "code",
      "source": [
        "ga.initialize_population(RAMS, MIPSS, RAM_limit,PIMS_limit)"
      ],
      "metadata": {
        "id": "FpZhoGmwCs85"
      },
      "execution_count": 183,
      "outputs": []
    },
    {
      "cell_type": "code",
      "source": [
        "ga.population[0].chromosome"
      ],
      "metadata": {
        "colab": {
          "base_uri": "https://localhost:8080/"
        },
        "id": "IJnZH0rkC4FY",
        "outputId": "dde652e0-9534-4fac-9ffb-7a8718b0eead"
      },
      "execution_count": 177,
      "outputs": [
        {
          "output_type": "execute_result",
          "data": {
            "text/plain": [
              "[1, 2, 4, 4, 5, 2, 5, 4, 4, 3]"
            ]
          },
          "metadata": {},
          "execution_count": 177
        }
      ]
    },
    {
      "cell_type": "code",
      "source": [
        "ga.population[0].fitness()"
      ],
      "metadata": {
        "id": "RVLzlduXDPL-"
      },
      "execution_count": 178,
      "outputs": []
    },
    {
      "cell_type": "code",
      "source": [
        "print(ga.population[0].score_evaluation)"
      ],
      "metadata": {
        "colab": {
          "base_uri": "https://localhost:8080/"
        },
        "id": "20rZT3K3DcJX",
        "outputId": "1dd61ca2-0ae7-4d91-ca0f-9557c9815517"
      },
      "execution_count": 179,
      "outputs": [
        {
          "output_type": "stream",
          "name": "stdout",
          "text": [
            "5\n"
          ]
        }
      ]
    },
    {
      "cell_type": "code",
      "source": [
        "ga.order_population()"
      ],
      "metadata": {
        "id": "uXk0uBSoHb7T"
      },
      "execution_count": 176,
      "outputs": []
    },
    {
      "cell_type": "code",
      "source": [
        "for indi in ga.population:\n",
        "  indi.fitness()\n",
        "ga.order_population()\n",
        "for i in range(ga.population_size):\n",
        "  print('Individual :',i,'--------','score evaluation:',ga.population[i].score_evaluation)\n"
      ],
      "metadata": {
        "colab": {
          "base_uri": "https://localhost:8080/"
        },
        "id": "baSB--chH3n0",
        "outputId": "408890e4-aef8-45b4-e1cf-e84bff9016c8"
      },
      "execution_count": 184,
      "outputs": [
        {
          "output_type": "stream",
          "name": "stdout",
          "text": [
            "Individual : 0 -------- score evaluation: 2\n",
            "Individual : 1 -------- score evaluation: 3\n",
            "Individual : 2 -------- score evaluation: 3\n",
            "Individual : 3 -------- score evaluation: 3\n",
            "Individual : 4 -------- score evaluation: 3\n",
            "Individual : 5 -------- score evaluation: 3\n",
            "Individual : 6 -------- score evaluation: 3\n",
            "Individual : 7 -------- score evaluation: 3\n",
            "Individual : 8 -------- score evaluation: 3\n",
            "Individual : 9 -------- score evaluation: 3\n",
            "Individual : 10 -------- score evaluation: 3\n",
            "Individual : 11 -------- score evaluation: 3\n",
            "Individual : 12 -------- score evaluation: 3\n",
            "Individual : 13 -------- score evaluation: 4\n",
            "Individual : 14 -------- score evaluation: 4\n",
            "Individual : 15 -------- score evaluation: 4\n",
            "Individual : 16 -------- score evaluation: 4\n",
            "Individual : 17 -------- score evaluation: 4\n",
            "Individual : 18 -------- score evaluation: 4\n",
            "Individual : 19 -------- score evaluation: 4\n",
            "Individual : 20 -------- score evaluation: 4\n",
            "Individual : 21 -------- score evaluation: 4\n",
            "Individual : 22 -------- score evaluation: 4\n",
            "Individual : 23 -------- score evaluation: 4\n",
            "Individual : 24 -------- score evaluation: 4\n",
            "Individual : 25 -------- score evaluation: 4\n",
            "Individual : 26 -------- score evaluation: 4\n",
            "Individual : 27 -------- score evaluation: 4\n",
            "Individual : 28 -------- score evaluation: 4\n",
            "Individual : 29 -------- score evaluation: 4\n",
            "Individual : 30 -------- score evaluation: 4\n",
            "Individual : 31 -------- score evaluation: 4\n",
            "Individual : 32 -------- score evaluation: 4\n",
            "Individual : 33 -------- score evaluation: 4\n",
            "Individual : 34 -------- score evaluation: 4\n",
            "Individual : 35 -------- score evaluation: 4\n",
            "Individual : 36 -------- score evaluation: 4\n",
            "Individual : 37 -------- score evaluation: 4\n",
            "Individual : 38 -------- score evaluation: 4\n",
            "Individual : 39 -------- score evaluation: 4\n",
            "Individual : 40 -------- score evaluation: 4\n",
            "Individual : 41 -------- score evaluation: 4\n",
            "Individual : 42 -------- score evaluation: 4\n",
            "Individual : 43 -------- score evaluation: 4\n",
            "Individual : 44 -------- score evaluation: 4\n",
            "Individual : 45 -------- score evaluation: 4\n",
            "Individual : 46 -------- score evaluation: 4\n",
            "Individual : 47 -------- score evaluation: 4\n",
            "Individual : 48 -------- score evaluation: 4\n",
            "Individual : 49 -------- score evaluation: 4\n",
            "Individual : 50 -------- score evaluation: 4\n",
            "Individual : 51 -------- score evaluation: 4\n",
            "Individual : 52 -------- score evaluation: 4\n",
            "Individual : 53 -------- score evaluation: 4\n",
            "Individual : 54 -------- score evaluation: 4\n",
            "Individual : 55 -------- score evaluation: 4\n",
            "Individual : 56 -------- score evaluation: 4\n",
            "Individual : 57 -------- score evaluation: 4\n",
            "Individual : 58 -------- score evaluation: 4\n",
            "Individual : 59 -------- score evaluation: 4\n",
            "Individual : 60 -------- score evaluation: 4\n",
            "Individual : 61 -------- score evaluation: 4\n",
            "Individual : 62 -------- score evaluation: 4\n",
            "Individual : 63 -------- score evaluation: 4\n",
            "Individual : 64 -------- score evaluation: 4\n",
            "Individual : 65 -------- score evaluation: 4\n",
            "Individual : 66 -------- score evaluation: 4\n",
            "Individual : 67 -------- score evaluation: 4\n",
            "Individual : 68 -------- score evaluation: 4\n",
            "Individual : 69 -------- score evaluation: 4\n",
            "Individual : 70 -------- score evaluation: 4\n",
            "Individual : 71 -------- score evaluation: 4\n",
            "Individual : 72 -------- score evaluation: 4\n",
            "Individual : 73 -------- score evaluation: 4\n",
            "Individual : 74 -------- score evaluation: 4\n",
            "Individual : 75 -------- score evaluation: 4\n",
            "Individual : 76 -------- score evaluation: 4\n",
            "Individual : 77 -------- score evaluation: 4\n",
            "Individual : 78 -------- score evaluation: 4\n",
            "Individual : 79 -------- score evaluation: 4\n",
            "Individual : 80 -------- score evaluation: 4\n",
            "Individual : 81 -------- score evaluation: 4\n",
            "Individual : 82 -------- score evaluation: 4\n",
            "Individual : 83 -------- score evaluation: 4\n",
            "Individual : 84 -------- score evaluation: 4\n",
            "Individual : 85 -------- score evaluation: 4\n",
            "Individual : 86 -------- score evaluation: 4\n",
            "Individual : 87 -------- score evaluation: 4\n",
            "Individual : 88 -------- score evaluation: 4\n",
            "Individual : 89 -------- score evaluation: 4\n",
            "Individual : 90 -------- score evaluation: 4\n",
            "Individual : 91 -------- score evaluation: 5\n",
            "Individual : 92 -------- score evaluation: 5\n",
            "Individual : 93 -------- score evaluation: 5\n",
            "Individual : 94 -------- score evaluation: 5\n",
            "Individual : 95 -------- score evaluation: 5\n",
            "Individual : 96 -------- score evaluation: 5\n",
            "Individual : 97 -------- score evaluation: 5\n",
            "Individual : 98 -------- score evaluation: 5\n",
            "Individual : 99 -------- score evaluation: 5\n",
            "Individual : 100 -------- score evaluation: 5\n",
            "Individual : 101 -------- score evaluation: 5\n",
            "Individual : 102 -------- score evaluation: 5\n",
            "Individual : 103 -------- score evaluation: 5\n",
            "Individual : 104 -------- score evaluation: 5\n",
            "Individual : 105 -------- score evaluation: 5\n",
            "Individual : 106 -------- score evaluation: 5\n",
            "Individual : 107 -------- score evaluation: 5\n",
            "Individual : 108 -------- score evaluation: 5\n",
            "Individual : 109 -------- score evaluation: 5\n",
            "Individual : 110 -------- score evaluation: 5\n",
            "Individual : 111 -------- score evaluation: 5\n",
            "Individual : 112 -------- score evaluation: 5\n",
            "Individual : 113 -------- score evaluation: 5\n",
            "Individual : 114 -------- score evaluation: 5\n",
            "Individual : 115 -------- score evaluation: 5\n",
            "Individual : 116 -------- score evaluation: 5\n",
            "Individual : 117 -------- score evaluation: 5\n",
            "Individual : 118 -------- score evaluation: 5\n",
            "Individual : 119 -------- score evaluation: 5\n",
            "Individual : 120 -------- score evaluation: 5\n",
            "Individual : 121 -------- score evaluation: 5\n",
            "Individual : 122 -------- score evaluation: 5\n",
            "Individual : 123 -------- score evaluation: 5\n",
            "Individual : 124 -------- score evaluation: 5\n",
            "Individual : 125 -------- score evaluation: 5\n",
            "Individual : 126 -------- score evaluation: 5\n",
            "Individual : 127 -------- score evaluation: 5\n",
            "Individual : 128 -------- score evaluation: 5\n",
            "Individual : 129 -------- score evaluation: 5\n",
            "Individual : 130 -------- score evaluation: 5\n",
            "Individual : 131 -------- score evaluation: 5\n",
            "Individual : 132 -------- score evaluation: 5\n",
            "Individual : 133 -------- score evaluation: 5\n",
            "Individual : 134 -------- score evaluation: 5\n",
            "Individual : 135 -------- score evaluation: 5\n",
            "Individual : 136 -------- score evaluation: 5\n",
            "Individual : 137 -------- score evaluation: 5\n",
            "Individual : 138 -------- score evaluation: 5\n",
            "Individual : 139 -------- score evaluation: 5\n",
            "Individual : 140 -------- score evaluation: 5\n",
            "Individual : 141 -------- score evaluation: 5\n",
            "Individual : 142 -------- score evaluation: 5\n",
            "Individual : 143 -------- score evaluation: 5\n",
            "Individual : 144 -------- score evaluation: 5\n",
            "Individual : 145 -------- score evaluation: 5\n",
            "Individual : 146 -------- score evaluation: 5\n",
            "Individual : 147 -------- score evaluation: 5\n",
            "Individual : 148 -------- score evaluation: 5\n",
            "Individual : 149 -------- score evaluation: 5\n",
            "Individual : 150 -------- score evaluation: 5\n",
            "Individual : 151 -------- score evaluation: 5\n",
            "Individual : 152 -------- score evaluation: 5\n",
            "Individual : 153 -------- score evaluation: 5\n",
            "Individual : 154 -------- score evaluation: 5\n",
            "Individual : 155 -------- score evaluation: 5\n",
            "Individual : 156 -------- score evaluation: 5\n",
            "Individual : 157 -------- score evaluation: 5\n",
            "Individual : 158 -------- score evaluation: 5\n",
            "Individual : 159 -------- score evaluation: 5\n",
            "Individual : 160 -------- score evaluation: 5\n",
            "Individual : 161 -------- score evaluation: 5\n",
            "Individual : 162 -------- score evaluation: 5\n",
            "Individual : 163 -------- score evaluation: 5\n",
            "Individual : 164 -------- score evaluation: 5\n",
            "Individual : 165 -------- score evaluation: 5\n",
            "Individual : 166 -------- score evaluation: 5\n",
            "Individual : 167 -------- score evaluation: 5\n",
            "Individual : 168 -------- score evaluation: 5\n",
            "Individual : 169 -------- score evaluation: 5\n",
            "Individual : 170 -------- score evaluation: 5\n",
            "Individual : 171 -------- score evaluation: 5\n",
            "Individual : 172 -------- score evaluation: 5\n",
            "Individual : 173 -------- score evaluation: 5\n",
            "Individual : 174 -------- score evaluation: 5\n",
            "Individual : 175 -------- score evaluation: 5\n",
            "Individual : 176 -------- score evaluation: 5\n",
            "Individual : 177 -------- score evaluation: 5\n",
            "Individual : 178 -------- score evaluation: 5\n",
            "Individual : 179 -------- score evaluation: 5\n",
            "Individual : 180 -------- score evaluation: 5\n",
            "Individual : 181 -------- score evaluation: 5\n",
            "Individual : 182 -------- score evaluation: 5\n",
            "Individual : 183 -------- score evaluation: 5\n",
            "Individual : 184 -------- score evaluation: 5\n",
            "Individual : 185 -------- score evaluation: 5\n",
            "Individual : 186 -------- score evaluation: 5\n",
            "Individual : 187 -------- score evaluation: 5\n",
            "Individual : 188 -------- score evaluation: 5\n",
            "Individual : 189 -------- score evaluation: 5\n",
            "Individual : 190 -------- score evaluation: 5\n",
            "Individual : 191 -------- score evaluation: 5\n",
            "Individual : 192 -------- score evaluation: 5\n",
            "Individual : 193 -------- score evaluation: 5\n",
            "Individual : 194 -------- score evaluation: 5\n",
            "Individual : 195 -------- score evaluation: 5\n",
            "Individual : 196 -------- score evaluation: 5\n",
            "Individual : 197 -------- score evaluation: 5\n",
            "Individual : 198 -------- score evaluation: 5\n",
            "Individual : 199 -------- score evaluation: 5\n"
          ]
        }
      ]
    }
  ]
}