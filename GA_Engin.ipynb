{
  "nbformat": 4,
  "nbformat_minor": 0,
  "metadata": {
    "colab": {
      "provenance": [],
      "authorship_tag": "ABX9TyOZdUASpqJG5aaPCwPToCUy",
      "include_colab_link": true
    },
    "kernelspec": {
      "name": "python3",
      "display_name": "Python 3"
    },
    "language_info": {
      "name": "python"
    }
  },
  "cells": [
    {
      "cell_type": "markdown",
      "metadata": {
        "id": "view-in-github",
        "colab_type": "text"
      },
      "source": [
        "<a href=\"https://colab.research.google.com/github/sedavasema/GA/blob/main/GA_Engin.ipynb\" target=\"_parent\"><img src=\"https://colab.research.google.com/assets/colab-badge.svg\" alt=\"Open In Colab\"/></a>"
      ]
    },
    {
      "cell_type": "code",
      "execution_count": 1,
      "metadata": {
        "id": "hp2tRMQffbeY"
      },
      "outputs": [],
      "source": [
        "import random"
      ]
    },
    {
      "cell_type": "code",
      "source": [
        "def _generat_parent(lenght,geneSet):\n",
        "  parent=[]\n",
        "  parent=random.sample(geneSet,lenght)\n",
        "  return ''.join(parent)"
      ],
      "metadata": {
        "id": "f0p-rUmw-iS3"
      },
      "execution_count": null,
      "outputs": []
    },
    {
      "cell_type": "code",
      "source": [
        "def _mutation(parent,geneSet):\n",
        "  gene=random.sample(geneSet,1)\n",
        "  str_gene=''.join(gene)\n",
        "  index=random.randrange(0,len(parent),1)\n",
        "  list_parent=list(parent)\n",
        "  list_parent[index]=str_gene\n",
        "  return ''.join(list_parent)"
      ],
      "metadata": {
        "id": "gjWlF7CIFCxT"
      },
      "execution_count": null,
      "outputs": []
    },
    {
      "cell_type": "code",
      "source": [
        "def get_best(fitness,targetlen,optimalfitness,geneSet,display):\n",
        "  random.seed()\n",
        "  bestparent=_generat_parent(targetlen,geneSet)\n",
        "  bestfitness=fitness(bestparent)\n",
        "  display(bestparent)\n",
        "  if bestfitness>=optimalfitness:\n",
        "    return bestparent\n",
        "  while True:\n",
        "    child=_mutation(bestparent,geneSet)\n",
        "    childfit=fitness(child)\n",
        "    if bestfitness>= childfit:\n",
        "      continue\n",
        "    display(child)\n",
        "    if childfit>= optimalfitness:\n",
        "      return child\n",
        "    bestparent=child\n",
        "    bestfitness=childfit"
      ],
      "metadata": {
        "id": "5hlbTcq6f2Xi"
      },
      "execution_count": null,
      "outputs": []
    }
  ]
}