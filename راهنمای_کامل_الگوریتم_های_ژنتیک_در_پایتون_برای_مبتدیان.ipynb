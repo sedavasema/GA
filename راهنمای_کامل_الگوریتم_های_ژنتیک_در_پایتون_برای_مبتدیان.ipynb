{
  "nbformat": 4,
  "nbformat_minor": 0,
  "metadata": {
    "colab": {
      "provenance": [],
      "authorship_tag": "ABX9TyMWKpPJqtBCSGmrO4RRj0i1",
      "include_colab_link": true
    },
    "kernelspec": {
      "name": "python3",
      "display_name": "Python 3"
    },
    "language_info": {
      "name": "python"
    }
  },
  "cells": [
    {
      "cell_type": "markdown",
      "metadata": {
        "id": "view-in-github",
        "colab_type": "text"
      },
      "source": [
        "<a href=\"https://colab.research.google.com/github/sedavasema/GA/blob/main/%D8%B1%D8%A7%D9%87%D9%86%D9%85%D8%A7%DB%8C_%DA%A9%D8%A7%D9%85%D9%84_%D8%A7%D9%84%DA%AF%D9%88%D8%B1%DB%8C%D8%AA%D9%85_%D9%87%D8%A7%DB%8C_%DA%98%D9%86%D8%AA%DB%8C%DA%A9_%D8%AF%D8%B1_%D9%BE%D8%A7%DB%8C%D8%AA%D9%88%D9%86_%D8%A8%D8%B1%D8%A7%DB%8C_%D9%85%D8%A8%D8%AA%D8%AF%DB%8C%D8%A7%D9%86.ipynb\" target=\"_parent\"><img src=\"https://colab.research.google.com/assets/colab-badge.svg\" alt=\"Open In Colab\"/></a>"
      ]
    },
    {
      "cell_type": "code",
      "source": [
        "class Product():\n",
        "  def __init__(self,name,space,price):\n",
        "    self.name=name\n",
        "    self.space=space\n",
        "    self.price=price"
      ],
      "metadata": {
        "id": "8RPG_s8R78aa"
      },
      "execution_count": 14,
      "outputs": []
    },
    {
      "cell_type": "code",
      "source": [
        "p1=Product('refrigerator A',0.751,999.9)"
      ],
      "metadata": {
        "id": "sLFnp2iSM87f"
      },
      "execution_count": 15,
      "outputs": []
    },
    {
      "cell_type": "code",
      "source": [
        "p1.name,p1.price,p1.space"
      ],
      "metadata": {
        "colab": {
          "base_uri": "https://localhost:8080/"
        },
        "id": "SFtpNvYDNTMz",
        "outputId": "ce6138ab-0388-4ac5-e2f9-b2295c25a341"
      },
      "execution_count": 16,
      "outputs": [
        {
          "output_type": "execute_result",
          "data": {
            "text/plain": [
              "('refrigerator A', 999.9, 0.751)"
            ]
          },
          "metadata": {},
          "execution_count": 16
        }
      ]
    },
    {
      "cell_type": "code",
      "metadata": {
        "id": "bDqNX7pUVJab"
      },
      "source": [
        "products_list = []\n",
        "products_list.append(Product('Refrigerator A', 0.751, 999.90))\n",
        "products_list.append(Product('Cell phone', 0.00000899, 2199.12))\n",
        "products_list.append(Product('TV 55', 0.400, 4346.99))\n",
        "products_list.append(Product(\"TV 50' \", 0.290, 3999.90))\n",
        "products_list.append(Product(\"TV 42' \", 0.200, 2999.00))\n",
        "products_list.append(Product(\"Notebook A\", 0.00350, 2499.90))\n",
        "products_list.append(Product(\"Ventilator\", 0.496, 199.90))\n",
        "products_list.append(Product(\"Microwave A\", 0.0424, 308.66))\n",
        "products_list.append(Product(\"Microwave B\", 0.0544, 429.90))\n",
        "products_list.append(Product(\"Microwave C\", 0.0319, 299.29))\n",
        "products_list.append(Product(\"Refrigerator B\", 0.635, 849.00))\n",
        "products_list.append(Product(\"Refrigerator C\", 0.870, 1199.89))\n",
        "products_list.append(Product(\"Notebook B\", 0.498, 1999.90))\n",
        "products_list.append(Product(\"Notebook C\", 0.527, 3999.00))"
      ],
      "execution_count": 17,
      "outputs": []
    },
    {
      "cell_type": "code",
      "source": [
        "products_list[0].name"
      ],
      "metadata": {
        "colab": {
          "base_uri": "https://localhost:8080/",
          "height": 35
        },
        "id": "FbOjaro_ptKY",
        "outputId": "66290c63-1e2d-46eb-bc4b-435e3e4cee99"
      },
      "execution_count": 71,
      "outputs": [
        {
          "output_type": "execute_result",
          "data": {
            "text/plain": [
              "'Refrigerator A'"
            ],
            "application/vnd.google.colaboratory.intrinsic+json": {
              "type": "string"
            }
          },
          "metadata": {},
          "execution_count": 71
        }
      ]
    },
    {
      "cell_type": "code",
      "source": [
        "for p in products_list:\n",
        "  print (p.name,'-',p.space,'-',p.price)"
      ],
      "metadata": {
        "colab": {
          "base_uri": "https://localhost:8080/"
        },
        "id": "jBV0HmhrQONH",
        "outputId": "cffd4f24-f880-4375-c4fc-8c2980612415"
      },
      "execution_count": 20,
      "outputs": [
        {
          "output_type": "stream",
          "name": "stdout",
          "text": [
            "Refrigerator A - 0.751 - 999.9\n",
            "Cell phone - 8.99e-06 - 2199.12\n",
            "TV 55 - 0.4 - 4346.99\n",
            "TV 50'  - 0.29 - 3999.9\n",
            "TV 42'  - 0.2 - 2999.0\n",
            "Notebook A - 0.0035 - 2499.9\n",
            "Ventilator - 0.496 - 199.9\n",
            "Microwave A - 0.0424 - 308.66\n",
            "Microwave B - 0.0544 - 429.9\n",
            "Microwave C - 0.0319 - 299.29\n",
            "Refrigerator B - 0.635 - 849.0\n",
            "Refrigerator C - 0.87 - 1199.89\n",
            "Notebook B - 0.498 - 1999.9\n",
            "Notebook C - 0.527 - 3999.0\n"
          ]
        }
      ]
    },
    {
      "cell_type": "code",
      "source": [
        "from random import random"
      ],
      "metadata": {
        "id": "gRQgUcBDYDun"
      },
      "execution_count": 55,
      "outputs": []
    },
    {
      "cell_type": "code",
      "source": [
        "random()"
      ],
      "metadata": {
        "colab": {
          "base_uri": "https://localhost:8080/"
        },
        "id": "q-PBtXl-YHEs",
        "outputId": "3eae4736-3b02-4217-a922-32377e4284ce"
      },
      "execution_count": 58,
      "outputs": [
        {
          "output_type": "execute_result",
          "data": {
            "text/plain": [
              "0.8102172359965896"
            ]
          },
          "metadata": {},
          "execution_count": 58
        }
      ]
    },
    {
      "cell_type": "code",
      "source": [
        "class Individual():\n",
        "  def __init__(self,space,prices,space_limit,generation=0):\n",
        "    self.space=space\n",
        "    self.prices=prices\n",
        "    self.space_limit=space_limit\n",
        "    self.generation=generation\n",
        "    self.score_evalution=0\n",
        "    self.used_space=0\n",
        "    self.choromosome=[]\n",
        "    for i in range(len(space)):\n",
        "      if random()<0.5:\n",
        "        self.choromosome.append('0')\n",
        "      else:\n",
        "        self.choromosome.append('1')\n",
        "  def fitness(self):\n",
        "    score=0\n",
        "    sum_space=0\n",
        "    for i in range(len(self.choromosome)):\n",
        "      if self.choromosome[i]=='1':\n",
        "        score += self.prices[i]\n",
        "        sum_space += self.space[i]\n",
        "    if sum_space > self.space_limit:\n",
        "      score=1\n",
        "    self.score_evalution=score\n",
        "    self.used_space=sum_space\n",
        "  def crossover(self,other_individual):\n",
        "    cutoff= round(random()*len(self.choromosome))\n",
        "    #print(cutoff)\n",
        "    child1=self.choromosome[0:cutoff]+other_individual.choromosome[cutoff::]\n",
        "\n",
        "    child2=other_individual.choromosome[0:cutoff]+self.choromosome[cutoff::]\n",
        "    #print(child1)\n",
        "    #print(child2)\n",
        "    children=[Individual(self.space,self.prices,self.space_limit,self.generation+1),\n",
        "              Individual(self.space,self.prices,self.space_limit,self.generation+1)]\n",
        "    children[0].choromosome=child1\n",
        "    children[1].choromosome=child2\n",
        "    return children\n",
        ""
      ],
      "metadata": {
        "id": "sGvXliK9ZSDy"
      },
      "execution_count": 113,
      "outputs": []
    },
    {
      "cell_type": "code",
      "source": [
        "space=[]\n",
        "praice=[]\n",
        "name=[]\n",
        "for p in products_list:\n",
        "  space.append(p.space)\n",
        "  praice.append(p.price)\n",
        "  name.append(p.name)\n",
        "print(name)\n",
        "print(space)\n"
      ],
      "metadata": {
        "colab": {
          "base_uri": "https://localhost:8080/"
        },
        "id": "FEthvSg2eqoM",
        "outputId": "574614b7-d615-4c94-9ef1-3076c6fb9ddf"
      },
      "execution_count": 43,
      "outputs": [
        {
          "output_type": "stream",
          "name": "stdout",
          "text": [
            "['Refrigerator A', 'Cell phone', 'TV 55', \"TV 50' \", \"TV 42' \", 'Notebook A', 'Ventilator', 'Microwave A', 'Microwave B', 'Microwave C', 'Refrigerator B', 'Refrigerator C', 'Notebook B', 'Notebook C']\n",
            "[0.751, 8.99e-06, 0.4, 0.29, 0.2, 0.0035, 0.496, 0.0424, 0.0544, 0.0319, 0.635, 0.87, 0.498, 0.527]\n"
          ]
        }
      ]
    },
    {
      "cell_type": "code",
      "source": [
        "space[5],praice[5],name[5]"
      ],
      "metadata": {
        "colab": {
          "base_uri": "https://localhost:8080/"
        },
        "id": "s-aimwVKgeTb",
        "outputId": "3f11c724-b046-4be4-fbf9-9a7a208979b4"
      },
      "execution_count": 44,
      "outputs": [
        {
          "output_type": "execute_result",
          "data": {
            "text/plain": [
              "(0.0035, 2499.9, 'Notebook A')"
            ]
          },
          "metadata": {},
          "execution_count": 44
        }
      ]
    },
    {
      "cell_type": "code",
      "source": [
        "individual1=Individual(space,praice,3)\n",
        "#print('space:    ',individual1.space)\n",
        "#print('prices    ',individual1.prices)\n",
        "#print('chromosome',individual1.choromosome)\n",
        "for i in range(len(products_list)):\n",
        "  if individual1.choromosome[i]=='1':\n",
        "    print(products_list[i].name)\n",
        "individual1.fitness()\n",
        "print('score:',individual1.score_evalution)\n",
        "print('used space;',individual1.used_space)\n",
        "print('choromosome:',individual1.choromosome)"
      ],
      "metadata": {
        "colab": {
          "base_uri": "https://localhost:8080/"
        },
        "id": "K2nmdb_OiM49",
        "outputId": "63036d8c-b574-4e7f-847c-1b61549c2604"
      },
      "execution_count": 114,
      "outputs": [
        {
          "output_type": "stream",
          "name": "stdout",
          "text": [
            "TV 50' \n",
            "Microwave A\n",
            "Notebook B\n",
            "Notebook C\n",
            "score: 10307.460000000001\n",
            "used space; 1.3574000000000002\n",
            "choromosome: ['0', '0', '0', '1', '0', '0', '0', '1', '0', '0', '0', '0', '1', '1']\n"
          ]
        }
      ]
    },
    {
      "cell_type": "code",
      "source": [],
      "metadata": {
        "id": "nR-WI2rD61iV"
      },
      "execution_count": null,
      "outputs": []
    },
    {
      "cell_type": "code",
      "source": [
        "individual2=Individual(space,praice,3)\n",
        "#print('space:    ',individual1.space)\n",
        "#print('prices    ',individual1.prices)\n",
        "#print('chromosome',individual1.choromosome)\n",
        "for i in range(len(products_list)):\n",
        "  if individual2.choromosome[i]=='1':\n",
        "    print(products_list[i].name)\n",
        "individual2.fitness()\n",
        "individual2.crossover(individual1)\n",
        "print('score:',individual2.score_evalution)\n",
        "print('used space',individual2.used_space)\n",
        "print('choromosome:',individual2.choromosome)"
      ],
      "metadata": {
        "colab": {
          "base_uri": "https://localhost:8080/"
        },
        "outputId": "6df79fe9-f2e2-4777-c49f-1c39e135f708",
        "id": "UY7zjzp462XF"
      },
      "execution_count": 115,
      "outputs": [
        {
          "output_type": "stream",
          "name": "stdout",
          "text": [
            "Cell phone\n",
            "TV 55\n",
            "TV 50' \n",
            "Ventilator\n",
            "Refrigerator B\n",
            "Notebook C\n",
            "score: 15593.91\n",
            "used space 2.34800899\n",
            "choromosome: ['0', '1', '1', '1', '0', '0', '1', '0', '0', '0', '1', '0', '0', '1']\n"
          ]
        }
      ]
    },
    {
      "cell_type": "code",
      "source": [
        "print(individual1.choromosome)\n",
        "print(individual2.choromosome)\n",
        "children=individual2.crossover(individual1)\n",
        "children[0].fitness()\n",
        "children[0].score_evalution"
      ],
      "metadata": {
        "colab": {
          "base_uri": "https://localhost:8080/"
        },
        "id": "yaqQcZupBQoL",
        "outputId": "249cfc08-c5d6-4e9a-a297-da36f3afc210"
      },
      "execution_count": 119,
      "outputs": [
        {
          "output_type": "stream",
          "name": "stdout",
          "text": [
            "['0', '0', '0', '1', '0', '0', '0', '1', '0', '0', '0', '0', '1', '1']\n",
            "['0', '1', '1', '1', '0', '0', '1', '0', '0', '0', '1', '0', '0', '1']\n"
          ]
        },
        {
          "output_type": "execute_result",
          "data": {
            "text/plain": [
              "10307.460000000001"
            ]
          },
          "metadata": {},
          "execution_count": 119
        }
      ]
    }
  ]
}