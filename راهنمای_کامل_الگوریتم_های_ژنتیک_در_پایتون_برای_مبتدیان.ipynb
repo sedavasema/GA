{
  "nbformat": 4,
  "nbformat_minor": 0,
  "metadata": {
    "colab": {
      "provenance": [],
      "authorship_tag": "ABX9TyOEBXzP9YsIJN5Cr3QfUJrA",
      "include_colab_link": true
    },
    "kernelspec": {
      "name": "python3",
      "display_name": "Python 3"
    },
    "language_info": {
      "name": "python"
    }
  },
  "cells": [
    {
      "cell_type": "markdown",
      "metadata": {
        "id": "view-in-github",
        "colab_type": "text"
      },
      "source": [
        "<a href=\"https://colab.research.google.com/github/sedavasema/GA/blob/main/%D8%B1%D8%A7%D9%87%D9%86%D9%85%D8%A7%DB%8C_%DA%A9%D8%A7%D9%85%D9%84_%D8%A7%D9%84%DA%AF%D9%88%D8%B1%DB%8C%D8%AA%D9%85_%D9%87%D8%A7%DB%8C_%DA%98%D9%86%D8%AA%DB%8C%DA%A9_%D8%AF%D8%B1_%D9%BE%D8%A7%DB%8C%D8%AA%D9%88%D9%86_%D8%A8%D8%B1%D8%A7%DB%8C_%D9%85%D8%A8%D8%AA%D8%AF%DB%8C%D8%A7%D9%86.ipynb\" target=\"_parent\"><img src=\"https://colab.research.google.com/assets/colab-badge.svg\" alt=\"Open In Colab\"/></a>"
      ]
    },
    {
      "cell_type": "code",
      "source": [
        "class Product():\n",
        "  def __init__(self,name,space,price):\n",
        "    self.name=name\n",
        "    self.space=space\n",
        "    self.price=price"
      ],
      "metadata": {
        "id": "8RPG_s8R78aa"
      },
      "execution_count": 16,
      "outputs": []
    },
    {
      "cell_type": "code",
      "source": [
        "p1=Product('refrigerator A',0.751,999.9)"
      ],
      "metadata": {
        "id": "sLFnp2iSM87f"
      },
      "execution_count": 17,
      "outputs": []
    },
    {
      "cell_type": "code",
      "source": [
        "p1.name,p1.price,p1.space"
      ],
      "metadata": {
        "colab": {
          "base_uri": "https://localhost:8080/"
        },
        "id": "SFtpNvYDNTMz",
        "outputId": "0ab11151-c9b3-45c6-b11b-7171082e8452"
      },
      "execution_count": 18,
      "outputs": [
        {
          "output_type": "execute_result",
          "data": {
            "text/plain": [
              "('refrigerator A', 999.9, 0.751)"
            ]
          },
          "metadata": {},
          "execution_count": 18
        }
      ]
    },
    {
      "cell_type": "code",
      "metadata": {
        "id": "bDqNX7pUVJab"
      },
      "source": [
        "products_list = []\n",
        "products_list.append(Product('Refrigerator A', 0.751, 999.90))\n",
        "products_list.append(Product('Cell phone', 0.00000899, 2199.12))\n",
        "products_list.append(Product('TV 55', 0.400, 4346.99))\n",
        "products_list.append(Product(\"TV 50' \", 0.290, 3999.90))\n",
        "products_list.append(Product(\"TV 42' \", 0.200, 2999.00))\n",
        "products_list.append(Product(\"Notebook A\", 0.00350, 2499.90))\n",
        "products_list.append(Product(\"Ventilator\", 0.496, 199.90))\n",
        "products_list.append(Product(\"Microwave A\", 0.0424, 308.66))\n",
        "products_list.append(Product(\"Microwave B\", 0.0544, 429.90))\n",
        "products_list.append(Product(\"Microwave C\", 0.0319, 299.29))\n",
        "products_list.append(Product(\"Refrigerator B\", 0.635, 849.00))\n",
        "products_list.append(Product(\"Refrigerator C\", 0.870, 1199.89))\n",
        "products_list.append(Product(\"Notebook B\", 0.498, 1999.90))\n",
        "products_list.append(Product(\"Notebook C\", 0.527, 3999.00))"
      ],
      "execution_count": 19,
      "outputs": []
    },
    {
      "cell_type": "code",
      "source": [
        "products_list[0].name"
      ],
      "metadata": {
        "colab": {
          "base_uri": "https://localhost:8080/",
          "height": 35
        },
        "id": "FbOjaro_ptKY",
        "outputId": "63bfd1cf-15e9-4967-bf1d-6e2017c10ae2"
      },
      "execution_count": 20,
      "outputs": [
        {
          "output_type": "execute_result",
          "data": {
            "text/plain": [
              "'Refrigerator A'"
            ],
            "application/vnd.google.colaboratory.intrinsic+json": {
              "type": "string"
            }
          },
          "metadata": {},
          "execution_count": 20
        }
      ]
    },
    {
      "cell_type": "code",
      "source": [
        "for p in products_list:\n",
        "  print (p.name,'-',p.space,'-',p.price)"
      ],
      "metadata": {
        "colab": {
          "base_uri": "https://localhost:8080/"
        },
        "id": "jBV0HmhrQONH",
        "outputId": "f7fab123-e2ee-4d40-a5d9-9d62802ae9db"
      },
      "execution_count": 21,
      "outputs": [
        {
          "output_type": "stream",
          "name": "stdout",
          "text": [
            "Refrigerator A - 0.751 - 999.9\n",
            "Cell phone - 8.99e-06 - 2199.12\n",
            "TV 55 - 0.4 - 4346.99\n",
            "TV 50'  - 0.29 - 3999.9\n",
            "TV 42'  - 0.2 - 2999.0\n",
            "Notebook A - 0.0035 - 2499.9\n",
            "Ventilator - 0.496 - 199.9\n",
            "Microwave A - 0.0424 - 308.66\n",
            "Microwave B - 0.0544 - 429.9\n",
            "Microwave C - 0.0319 - 299.29\n",
            "Refrigerator B - 0.635 - 849.0\n",
            "Refrigerator C - 0.87 - 1199.89\n",
            "Notebook B - 0.498 - 1999.9\n",
            "Notebook C - 0.527 - 3999.0\n"
          ]
        }
      ]
    },
    {
      "cell_type": "code",
      "source": [
        "from random import random"
      ],
      "metadata": {
        "id": "gRQgUcBDYDun"
      },
      "execution_count": 22,
      "outputs": []
    },
    {
      "cell_type": "code",
      "source": [
        "random()"
      ],
      "metadata": {
        "colab": {
          "base_uri": "https://localhost:8080/"
        },
        "id": "q-PBtXl-YHEs",
        "outputId": "bfe0932b-d078-46b1-f9ed-4d58924f493d"
      },
      "execution_count": 23,
      "outputs": [
        {
          "output_type": "execute_result",
          "data": {
            "text/plain": [
              "0.2847597023427647"
            ]
          },
          "metadata": {},
          "execution_count": 23
        }
      ]
    },
    {
      "cell_type": "code",
      "source": [
        "class Individual():\n",
        "  def __init__(self, spaces, prices, space_limit, generation=0):\n",
        "    self.spaces = spaces\n",
        "    self.prices = prices\n",
        "    self.space_limit = space_limit\n",
        "    self.score_evaluation = 0\n",
        "    self.used_space = 0\n",
        "    self.generation = generation\n",
        "    self.chromosome = []\n",
        "\n",
        "    for i in range(len(spaces)):\n",
        "      if random() < 0.5:\n",
        "        self.chromosome.append('0')\n",
        "      else:\n",
        "        self.chromosome.append('1')\n",
        "\n",
        "  def fitness(self):\n",
        "    score = 0\n",
        "    sum_spaces = 0\n",
        "    for i in range(len(self.chromosome)):\n",
        "      if self.chromosome[i] == '1':\n",
        "        score += self.prices[i]\n",
        "        sum_spaces += self.spaces[i]\n",
        "    if sum_spaces > self.space_limit:\n",
        "      score = 1\n",
        "    self.score_evaluation = score\n",
        "    self.used_space = sum_spaces\n",
        "\n",
        "  def crossover(self, other_individual):\n",
        "    cutoff = round(random() * len(self.chromosome))\n",
        "    #print(cutoff)\n",
        "\n",
        "    child1 = other_individual.chromosome[0:cutoff] + self.chromosome[cutoff::]\n",
        "    child2 = self.chromosome[0:cutoff] + other_individual.chromosome[cutoff::]\n",
        "    #print(child1)\n",
        "    #print(child2)\n",
        "    children = [Individual(self.spaces, self.prices, self.space_limit, self.generation + 1),\n",
        "                Individual(self.spaces, self.prices, self.space_limit, self.generation + 1)]\n",
        "    children[0].chromosome = child1\n",
        "    children[1].chromosome = child2\n",
        "    return children\n",
        "\n",
        "  def mutation(self, rate):\n",
        "    #print('Before:', self.chromosome)\n",
        "    for i in range(len(self.chromosome)):\n",
        "      if random() < rate:\n",
        "        if self.chromosome[i] == '1':\n",
        "          self.chromosome[i] = '0'\n",
        "        else:\n",
        "          self.chromosome[i] = '1'\n",
        "    #print('After: ', self.chromosome)\n",
        "    return self"
      ],
      "metadata": {
        "id": "sGvXliK9ZSDy"
      },
      "execution_count": 24,
      "outputs": []
    },
    {
      "cell_type": "code",
      "source": [
        "space=[]\n",
        "praice=[]\n",
        "name=[]\n",
        "for p in products_list:\n",
        "  space.append(p.space)\n",
        "  praice.append(p.price)\n",
        "  name.append(p.name)\n",
        "print(name)\n",
        "print(space)\n"
      ],
      "metadata": {
        "colab": {
          "base_uri": "https://localhost:8080/"
        },
        "id": "FEthvSg2eqoM",
        "outputId": "76f9e1a8-06d3-45a5-b6bb-9f964845a982"
      },
      "execution_count": 25,
      "outputs": [
        {
          "output_type": "stream",
          "name": "stdout",
          "text": [
            "['Refrigerator A', 'Cell phone', 'TV 55', \"TV 50' \", \"TV 42' \", 'Notebook A', 'Ventilator', 'Microwave A', 'Microwave B', 'Microwave C', 'Refrigerator B', 'Refrigerator C', 'Notebook B', 'Notebook C']\n",
            "[0.751, 8.99e-06, 0.4, 0.29, 0.2, 0.0035, 0.496, 0.0424, 0.0544, 0.0319, 0.635, 0.87, 0.498, 0.527]\n"
          ]
        }
      ]
    },
    {
      "cell_type": "code",
      "source": [
        "space[5],praice[5],name[5]"
      ],
      "metadata": {
        "colab": {
          "base_uri": "https://localhost:8080/"
        },
        "id": "s-aimwVKgeTb",
        "outputId": "6ceb8e7f-8082-48d9-882e-eb2d6b9312b5"
      },
      "execution_count": 26,
      "outputs": [
        {
          "output_type": "execute_result",
          "data": {
            "text/plain": [
              "(0.0035, 2499.9, 'Notebook A')"
            ]
          },
          "metadata": {},
          "execution_count": 26
        }
      ]
    },
    {
      "cell_type": "code",
      "source": [
        "individual1=Individual(space,praice,3)\n",
        "print('spaces:    ',individual1.spaces)\n",
        "print('prices    ',individual1.prices)\n",
        "print('chromosome',individual1.chromosome)\n",
        "for i in range(len(products_list)):\n",
        "  if individual1.chromosome[i]=='1':\n",
        "    print(products_list[i].name)\n",
        "#individual1.fitness()\n",
        "#print('score:',individual1.score_evalution)\n",
        "#print('used space;',individual1.used_space)\n",
        "#print('choromosome:',individual1.choromosome)"
      ],
      "metadata": {
        "colab": {
          "base_uri": "https://localhost:8080/"
        },
        "id": "K2nmdb_OiM49",
        "outputId": "3f96ddc1-4c81-4123-ae70-9129c6c4b089"
      },
      "execution_count": 27,
      "outputs": [
        {
          "output_type": "stream",
          "name": "stdout",
          "text": [
            "spaces:     [0.751, 8.99e-06, 0.4, 0.29, 0.2, 0.0035, 0.496, 0.0424, 0.0544, 0.0319, 0.635, 0.87, 0.498, 0.527]\n",
            "prices     [999.9, 2199.12, 4346.99, 3999.9, 2999.0, 2499.9, 199.9, 308.66, 429.9, 299.29, 849.0, 1199.89, 1999.9, 3999.0]\n",
            "chromosome ['1', '1', '0', '0', '1', '0', '1', '0', '0', '1', '1', '0', '1', '1']\n",
            "Refrigerator A\n",
            "Cell phone\n",
            "TV 42' \n",
            "Ventilator\n",
            "Microwave C\n",
            "Refrigerator B\n",
            "Notebook B\n",
            "Notebook C\n"
          ]
        }
      ]
    },
    {
      "cell_type": "code",
      "source": [
        "individual1.mutation(0.05)"
      ],
      "metadata": {
        "id": "nR-WI2rD61iV",
        "colab": {
          "base_uri": "https://localhost:8080/"
        },
        "outputId": "c207d87a-11b7-4cef-8a05-d3639142297e"
      },
      "execution_count": 28,
      "outputs": [
        {
          "output_type": "execute_result",
          "data": {
            "text/plain": [
              "<__main__.Individual at 0x7be85ea62a10>"
            ]
          },
          "metadata": {},
          "execution_count": 28
        }
      ]
    },
    {
      "cell_type": "code",
      "source": [
        "individual2=Individual(space,praice,3)\n",
        "#print('space:    ',individual1.space)\n",
        "#print('prices    ',individual1.prices)\n",
        "#print('chromosome',individual1.choromosome)\n",
        "for i in range(len(products_list)):\n",
        "  if individual2.chromosome[i]=='1':\n",
        "    print(products_list[i].name)\n",
        "individual2.fitness()\n",
        "individual2.crossover(individual1)\n",
        "print('score:',individual2.score_evaluation)\n",
        "print('used space',individual2.used_space)\n",
        "print('choromosome:',individual2.chromosome)"
      ],
      "metadata": {
        "colab": {
          "base_uri": "https://localhost:8080/"
        },
        "outputId": "2ae5a67b-cbe5-438e-a496-e5ea37a98c96",
        "id": "UY7zjzp462XF"
      },
      "execution_count": 33,
      "outputs": [
        {
          "output_type": "stream",
          "name": "stdout",
          "text": [
            "Refrigerator A\n",
            "TV 50' \n",
            "TV 42' \n",
            "Notebook A\n",
            "Microwave C\n",
            "Notebook B\n",
            "Notebook C\n",
            "score: 16796.89\n",
            "used space 2.3014\n",
            "choromosome: ['1', '0', '0', '1', '1', '1', '0', '0', '0', '1', '0', '0', '1', '1']\n"
          ]
        }
      ]
    },
    {
      "cell_type": "code",
      "source": [
        "print(individual1.chromosome)\n",
        "print(individual2.chromosome)\n",
        "children=individual2.crossover(individual1)\n",
        "children[0].fitness()\n",
        "children[0].score_evaluation"
      ],
      "metadata": {
        "colab": {
          "base_uri": "https://localhost:8080/"
        },
        "id": "yaqQcZupBQoL",
        "outputId": "67bd5a6c-4870-43c4-cfad-ee67f99b1a86"
      },
      "execution_count": 37,
      "outputs": [
        {
          "output_type": "stream",
          "name": "stdout",
          "text": [
            "['1', '1', '0', '0', '1', '0', '1', '0', '0', '1', '1', '0', '1', '1']\n",
            "['1', '0', '0', '1', '1', '1', '0', '0', '0', '1', '0', '0', '1', '1']\n"
          ]
        },
        {
          "output_type": "execute_result",
          "data": {
            "text/plain": [
              "1"
            ]
          },
          "metadata": {},
          "execution_count": 37
        }
      ]
    },
    {
      "cell_type": "markdown",
      "source": [
        "# Genetic Algorithm class"
      ],
      "metadata": {
        "id": "CxH9OFl_Psub"
      }
    },
    {
      "cell_type": "code",
      "source": [
        "class GeneticAlgorithm():\n",
        "  def __init__(self, population_size):\n",
        "    self.population_size = population_size\n",
        "    self.population = []\n",
        "    self.generation = 0\n",
        "    self.best_solution = None\n",
        "    self.list_of_solutions = []\n",
        "\n",
        "  def initialize_population(self, spaces, prices, space_limit):\n",
        "    for i in range(self.population_size):\n",
        "      self.population.append(Individual(spaces, prices, space_limit))\n",
        "    self.best_solution = self.population[0]\n",
        "\n",
        "  def order_population(self):\n",
        "    self.population = sorted(self.population, key=lambda population: population.score_evaluation, reverse=True)\n",
        "\n",
        "  def best_individual(self, individual):\n",
        "    if individual.score_evaluation > self.best_solution.score_evaluation:\n",
        "      self.best_solution = individual\n",
        "\n",
        "  def sum_evaluations(self):\n",
        "    sum = 0\n",
        "    for individual in self.population:\n",
        "      sum += individual.score_evaluation\n",
        "    return sum\n",
        "\n",
        "  def select_parent(self, sum_evaluation):\n",
        "    parent = -1\n",
        "    random_value = random() * sum_evaluation\n",
        "    sum = 0\n",
        "    i = 0\n",
        "    #print('*** random value:', random_value)\n",
        "    while i < len(self.population) and sum < random_value:\n",
        "      #print('i:', i, ' - sum: ', sum)\n",
        "      sum += self.population[i].score_evaluation\n",
        "      parent += 1\n",
        "      i += 1\n",
        "    return parent\n",
        "\n",
        "  def visualize_generation(self):\n",
        "    best = self.population[0]\n",
        "    print('Generation: ', self.population[0].generation,\n",
        "          'Total price: ', best.score_evaluation, 'Space: ', best.used_space,\n",
        "          'Chromosome: ', best.chromosome)\n",
        "\n",
        "  def solve(self, mutation_probability, number_of_generations, spaces, prices, limit):\n",
        "    self.initialize_population(spaces, prices, limit)\n",
        "\n",
        "    for individual in self.population:\n",
        "      individual.fitness()\n",
        "    self.order_population()\n",
        "    self.best_solution = self.population[0]\n",
        "    self.list_of_solutions.append(self.best_solution.score_evaluation)\n",
        "\n",
        "    self.visualize_generation()\n",
        "\n",
        "    for generation in range(number_of_generations):\n",
        "      sum = self.sum_evaluations()\n",
        "      new_population = []\n",
        "      for new_individuals in range(0, self.population_size, 2):\n",
        "        parent1 = self.select_parent(sum)\n",
        "        parent2 = self.select_parent(sum)\n",
        "        children = self.population[parent1].crossover(self.population[parent2])\n",
        "        new_population.append(children[0].mutation(mutation_probability))\n",
        "        new_population.append(children[1].mutation(mutation_probability))\n",
        "\n",
        "      self.population = list(new_population)\n",
        "\n",
        "      for individual in self.population:\n",
        "        individual.fitness()\n",
        "      self.order_population() # We forgot to add this line of code while recording the video lesson. Thank you Tamur for letting us know!\n",
        "      self.visualize_generation()\n",
        "      best = self.population[0]\n",
        "      self.list_of_solutions.append(best.score_evaluation)\n",
        "      self.best_individual(best)\n",
        "\n",
        "    print('**** Best solution - Generation: ', self.best_solution.generation,\n",
        "          'Total price: ', self.best_solution.score_evaluation, 'Space: ', self.best_solution.used_space,\n",
        "          'Chromosome: ', self.best_solution.chromosome)\n",
        "\n",
        "    return self.best_solution.chromosome"
      ],
      "metadata": {
        "id": "Hz6L_d7ZL4FV"
      },
      "execution_count": 38,
      "outputs": []
    },
    {
      "cell_type": "markdown",
      "source": [
        "# Testing the code"
      ],
      "metadata": {
        "id": "DPfJBY1OvZZJ"
      }
    },
    {
      "cell_type": "code",
      "source": [
        "population_size=20\n",
        "space_limit=3\n",
        "ga=GeneticAlgorithm(population_size)\n",
        "ga.initialize_population(space,praice,space_limit)"
      ],
      "metadata": {
        "id": "T2GAEqcaWgZD"
      },
      "execution_count": 41,
      "outputs": []
    },
    {
      "cell_type": "code",
      "source": [
        "ga.population[0].chromosome"
      ],
      "metadata": {
        "colab": {
          "base_uri": "https://localhost:8080/"
        },
        "id": "7NQaQ1u8a3Rv",
        "outputId": "f9ff7600-bed1-4abd-a529-d355829190c9"
      },
      "execution_count": 43,
      "outputs": [
        {
          "output_type": "execute_result",
          "data": {
            "text/plain": [
              "['0', '0', '1', '1', '0', '0', '1', '1', '0', '0', '0', '0', '1', '1']"
            ]
          },
          "metadata": {},
          "execution_count": 43
        }
      ]
    },
    {
      "cell_type": "code",
      "source": [
        "ga.population[1].chromosome"
      ],
      "metadata": {
        "colab": {
          "base_uri": "https://localhost:8080/"
        },
        "id": "Zr03IayWb5Il",
        "outputId": "d4012580-855b-40e0-b1fc-904e73f70edf"
      },
      "execution_count": 44,
      "outputs": [
        {
          "output_type": "execute_result",
          "data": {
            "text/plain": [
              "['0', '0', '0', '1', '0', '1', '1', '1', '0', '0', '0', '1', '1', '1']"
            ]
          },
          "metadata": {},
          "execution_count": 44
        }
      ]
    },
    {
      "cell_type": "code",
      "source": [
        "for indi in ga.population:\n",
        "  indi.fitness()\n",
        "ga.order_population()\n",
        "for i in range(ga.population_size):\n",
        "  print('Individual :',i,'\\n Spaces:',ga.population[i].spaces,'\\n prices',ga.population[i].prices,\n",
        "        '\\n choromosome',ga.population[i].chromosome,'\\n score',ga.population[i].score_evaluation,\n",
        "        '\\n use space',ga.population[i].used_space)\n"
      ],
      "metadata": {
        "colab": {
          "base_uri": "https://localhost:8080/"
        },
        "id": "qX9by_bvfNbf",
        "outputId": "d7df29b6-cb8b-4a14-e367-8000a174a604"
      },
      "execution_count": 47,
      "outputs": [
        {
          "output_type": "stream",
          "name": "stdout",
          "text": [
            "Individual : 0 \n",
            " Spaces: [0.751, 8.99e-06, 0.4, 0.29, 0.2, 0.0035, 0.496, 0.0424, 0.0544, 0.0319, 0.635, 0.87, 0.498, 0.527] \n",
            " prices [999.9, 2199.12, 4346.99, 3999.9, 2999.0, 2499.9, 199.9, 308.66, 429.9, 299.29, 849.0, 1199.89, 1999.9, 3999.0] \n",
            " choromosome ['0', '1', '1', '1', '1', '1', '0', '0', '0', '0', '0', '0', '1', '0'] \n",
            " score 18044.81 \n",
            " use space 1.3915089899999997\n",
            "Individual : 1 \n",
            " Spaces: [0.751, 8.99e-06, 0.4, 0.29, 0.2, 0.0035, 0.496, 0.0424, 0.0544, 0.0319, 0.635, 0.87, 0.498, 0.527] \n",
            " prices [999.9, 2199.12, 4346.99, 3999.9, 2999.0, 2499.9, 199.9, 308.66, 429.9, 299.29, 849.0, 1199.89, 1999.9, 3999.0] \n",
            " choromosome ['0', '0', '1', '1', '0', '0', '1', '1', '0', '0', '0', '0', '1', '1'] \n",
            " score 14854.349999999999 \n",
            " use space 2.2534\n",
            "Individual : 2 \n",
            " Spaces: [0.751, 8.99e-06, 0.4, 0.29, 0.2, 0.0035, 0.496, 0.0424, 0.0544, 0.0319, 0.635, 0.87, 0.498, 0.527] \n",
            " prices [999.9, 2199.12, 4346.99, 3999.9, 2999.0, 2499.9, 199.9, 308.66, 429.9, 299.29, 849.0, 1199.89, 1999.9, 3999.0] \n",
            " choromosome ['0', '0', '0', '1', '0', '1', '1', '1', '0', '0', '0', '1', '1', '1'] \n",
            " score 14207.15 \n",
            " use space 2.7269\n",
            "Individual : 3 \n",
            " Spaces: [0.751, 8.99e-06, 0.4, 0.29, 0.2, 0.0035, 0.496, 0.0424, 0.0544, 0.0319, 0.635, 0.87, 0.498, 0.527] \n",
            " prices [999.9, 2199.12, 4346.99, 3999.9, 2999.0, 2499.9, 199.9, 308.66, 429.9, 299.29, 849.0, 1199.89, 1999.9, 3999.0] \n",
            " choromosome ['1', '1', '1', '0', '1', '0', '0', '0', '0', '1', '0', '1', '1', '0'] \n",
            " score 14044.09 \n",
            " use space 2.75090899\n",
            "Individual : 4 \n",
            " Spaces: [0.751, 8.99e-06, 0.4, 0.29, 0.2, 0.0035, 0.496, 0.0424, 0.0544, 0.0319, 0.635, 0.87, 0.498, 0.527] \n",
            " prices [999.9, 2199.12, 4346.99, 3999.9, 2999.0, 2499.9, 199.9, 308.66, 429.9, 299.29, 849.0, 1199.89, 1999.9, 3999.0] \n",
            " choromosome ['1', '0', '0', '0', '1', '1', '0', '0', '0', '1', '0', '1', '0', '1'] \n",
            " score 11996.98 \n",
            " use space 2.3834\n",
            "Individual : 5 \n",
            " Spaces: [0.751, 8.99e-06, 0.4, 0.29, 0.2, 0.0035, 0.496, 0.0424, 0.0544, 0.0319, 0.635, 0.87, 0.498, 0.527] \n",
            " prices [999.9, 2199.12, 4346.99, 3999.9, 2999.0, 2499.9, 199.9, 308.66, 429.9, 299.29, 849.0, 1199.89, 1999.9, 3999.0] \n",
            " choromosome ['0', '1', '0', '1', '0', '0', '0', '0', '1', '0', '0', '1', '0', '1'] \n",
            " score 11827.810000000001 \n",
            " use space 1.74140899\n",
            "Individual : 6 \n",
            " Spaces: [0.751, 8.99e-06, 0.4, 0.29, 0.2, 0.0035, 0.496, 0.0424, 0.0544, 0.0319, 0.635, 0.87, 0.498, 0.527] \n",
            " prices [999.9, 2199.12, 4346.99, 3999.9, 2999.0, 2499.9, 199.9, 308.66, 429.9, 299.29, 849.0, 1199.89, 1999.9, 3999.0] \n",
            " choromosome ['0', '0', '0', '0', '0', '1', '0', '0', '0', '0', '1', '1', '1', '1'] \n",
            " score 10547.69 \n",
            " use space 2.5335\n",
            "Individual : 7 \n",
            " Spaces: [0.751, 8.99e-06, 0.4, 0.29, 0.2, 0.0035, 0.496, 0.0424, 0.0544, 0.0319, 0.635, 0.87, 0.498, 0.527] \n",
            " prices [999.9, 2199.12, 4346.99, 3999.9, 2999.0, 2499.9, 199.9, 308.66, 429.9, 299.29, 849.0, 1199.89, 1999.9, 3999.0] \n",
            " choromosome ['0', '1', '0', '0', '1', '0', '0', '0', '1', '1', '1', '1', '1', '0'] \n",
            " score 9976.1 \n",
            " use space 2.2893089900000003\n",
            "Individual : 8 \n",
            " Spaces: [0.751, 8.99e-06, 0.4, 0.29, 0.2, 0.0035, 0.496, 0.0424, 0.0544, 0.0319, 0.635, 0.87, 0.498, 0.527] \n",
            " prices [999.9, 2199.12, 4346.99, 3999.9, 2999.0, 2499.9, 199.9, 308.66, 429.9, 299.29, 849.0, 1199.89, 1999.9, 3999.0] \n",
            " choromosome ['0', '0', '0', '1', '1', '0', '0', '0', '1', '1', '0', '0', '1', '0'] \n",
            " score 9727.99 \n",
            " use space 1.0743\n",
            "Individual : 9 \n",
            " Spaces: [0.751, 8.99e-06, 0.4, 0.29, 0.2, 0.0035, 0.496, 0.0424, 0.0544, 0.0319, 0.635, 0.87, 0.498, 0.527] \n",
            " prices [999.9, 2199.12, 4346.99, 3999.9, 2999.0, 2499.9, 199.9, 308.66, 429.9, 299.29, 849.0, 1199.89, 1999.9, 3999.0] \n",
            " choromosome ['0', '0', '1', '1', '0', '0', '1', '0', '1', '0', '0', '0', '0', '0'] \n",
            " score 8976.689999999999 \n",
            " use space 1.2404\n",
            "Individual : 10 \n",
            " Spaces: [0.751, 8.99e-06, 0.4, 0.29, 0.2, 0.0035, 0.496, 0.0424, 0.0544, 0.0319, 0.635, 0.87, 0.498, 0.527] \n",
            " prices [999.9, 2199.12, 4346.99, 3999.9, 2999.0, 2499.9, 199.9, 308.66, 429.9, 299.29, 849.0, 1199.89, 1999.9, 3999.0] \n",
            " choromosome ['1', '1', '0', '0', '0', '0', '1', '1', '0', '0', '0', '1', '0', '1'] \n",
            " score 8906.470000000001 \n",
            " use space 2.68640899\n",
            "Individual : 11 \n",
            " Spaces: [0.751, 8.99e-06, 0.4, 0.29, 0.2, 0.0035, 0.496, 0.0424, 0.0544, 0.0319, 0.635, 0.87, 0.498, 0.527] \n",
            " prices [999.9, 2199.12, 4346.99, 3999.9, 2999.0, 2499.9, 199.9, 308.66, 429.9, 299.29, 849.0, 1199.89, 1999.9, 3999.0] \n",
            " choromosome ['1', '0', '0', '1', '0', '0', '0', '0', '0', '1', '0', '0', '1', '0'] \n",
            " score 7298.99 \n",
            " use space 1.5709\n",
            "Individual : 12 \n",
            " Spaces: [0.751, 8.99e-06, 0.4, 0.29, 0.2, 0.0035, 0.496, 0.0424, 0.0544, 0.0319, 0.635, 0.87, 0.498, 0.527] \n",
            " prices [999.9, 2199.12, 4346.99, 3999.9, 2999.0, 2499.9, 199.9, 308.66, 429.9, 299.29, 849.0, 1199.89, 1999.9, 3999.0] \n",
            " choromosome ['0', '1', '0', '0', '0', '0', '1', '0', '1', '0', '0', '1', '1', '0'] \n",
            " score 6028.710000000001 \n",
            " use space 1.9184089899999999\n",
            "Individual : 13 \n",
            " Spaces: [0.751, 8.99e-06, 0.4, 0.29, 0.2, 0.0035, 0.496, 0.0424, 0.0544, 0.0319, 0.635, 0.87, 0.498, 0.527] \n",
            " prices [999.9, 2199.12, 4346.99, 3999.9, 2999.0, 2499.9, 199.9, 308.66, 429.9, 299.29, 849.0, 1199.89, 1999.9, 3999.0] \n",
            " choromosome ['1', '1', '0', '0', '0', '0', '0', '0', '0', '0', '0', '1', '0', '0'] \n",
            " score 4398.91 \n",
            " use space 1.62100899\n",
            "Individual : 14 \n",
            " Spaces: [0.751, 8.99e-06, 0.4, 0.29, 0.2, 0.0035, 0.496, 0.0424, 0.0544, 0.0319, 0.635, 0.87, 0.498, 0.527] \n",
            " prices [999.9, 2199.12, 4346.99, 3999.9, 2999.0, 2499.9, 199.9, 308.66, 429.9, 299.29, 849.0, 1199.89, 1999.9, 3999.0] \n",
            " choromosome ['0', '1', '1', '1', '1', '1', '0', '0', '1', '0', '1', '1', '1', '1'] \n",
            " score 1 \n",
            " use space 3.4779089900000004\n",
            "Individual : 15 \n",
            " Spaces: [0.751, 8.99e-06, 0.4, 0.29, 0.2, 0.0035, 0.496, 0.0424, 0.0544, 0.0319, 0.635, 0.87, 0.498, 0.527] \n",
            " prices [999.9, 2199.12, 4346.99, 3999.9, 2999.0, 2499.9, 199.9, 308.66, 429.9, 299.29, 849.0, 1199.89, 1999.9, 3999.0] \n",
            " choromosome ['1', '0', '0', '1', '1', '0', '0', '0', '1', '1', '1', '1', '1', '0'] \n",
            " score 1 \n",
            " use space 3.3303000000000003\n",
            "Individual : 16 \n",
            " Spaces: [0.751, 8.99e-06, 0.4, 0.29, 0.2, 0.0035, 0.496, 0.0424, 0.0544, 0.0319, 0.635, 0.87, 0.498, 0.527] \n",
            " prices [999.9, 2199.12, 4346.99, 3999.9, 2999.0, 2499.9, 199.9, 308.66, 429.9, 299.29, 849.0, 1199.89, 1999.9, 3999.0] \n",
            " choromosome ['1', '1', '0', '1', '1', '1', '1', '1', '0', '1', '0', '1', '1', '1'] \n",
            " score 1 \n",
            " use space 3.70980899\n",
            "Individual : 17 \n",
            " Spaces: [0.751, 8.99e-06, 0.4, 0.29, 0.2, 0.0035, 0.496, 0.0424, 0.0544, 0.0319, 0.635, 0.87, 0.498, 0.527] \n",
            " prices [999.9, 2199.12, 4346.99, 3999.9, 2999.0, 2499.9, 199.9, 308.66, 429.9, 299.29, 849.0, 1199.89, 1999.9, 3999.0] \n",
            " choromosome ['1', '0', '0', '1', '0', '0', '1', '1', '0', '1', '0', '1', '1', '1'] \n",
            " score 1 \n",
            " use space 3.5063000000000004\n",
            "Individual : 18 \n",
            " Spaces: [0.751, 8.99e-06, 0.4, 0.29, 0.2, 0.0035, 0.496, 0.0424, 0.0544, 0.0319, 0.635, 0.87, 0.498, 0.527] \n",
            " prices [999.9, 2199.12, 4346.99, 3999.9, 2999.0, 2499.9, 199.9, 308.66, 429.9, 299.29, 849.0, 1199.89, 1999.9, 3999.0] \n",
            " choromosome ['1', '1', '0', '1', '0', '1', '1', '0', '0', '0', '1', '0', '1', '1'] \n",
            " score 1 \n",
            " use space 3.2005089900000003\n",
            "Individual : 19 \n",
            " Spaces: [0.751, 8.99e-06, 0.4, 0.29, 0.2, 0.0035, 0.496, 0.0424, 0.0544, 0.0319, 0.635, 0.87, 0.498, 0.527] \n",
            " prices [999.9, 2199.12, 4346.99, 3999.9, 2999.0, 2499.9, 199.9, 308.66, 429.9, 299.29, 849.0, 1199.89, 1999.9, 3999.0] \n",
            " choromosome ['1', '1', '1', '0', '1', '1', '1', '1', '0', '0', '1', '1', '0', '1'] \n",
            " score 1 \n",
            " use space 3.9249089900000005\n"
          ]
        }
      ]
    },
    {
      "cell_type": "code",
      "source": [
        "ga.best_solution.score_evalution"
      ],
      "metadata": {
        "id": "oMqO0K72iQCL"
      },
      "execution_count": null,
      "outputs": []
    },
    {
      "cell_type": "code",
      "source": [
        "ga.population[0].score_evaluation"
      ],
      "metadata": {
        "id": "y71TvIO3t9LG"
      },
      "execution_count": null,
      "outputs": []
    },
    {
      "cell_type": "code",
      "source": [
        "ga.best_individual(ga.population[0])\n",
        "ga.best_solution.score_evalaution"
      ],
      "metadata": {
        "id": "irvdIHjtuHFx"
      },
      "execution_count": null,
      "outputs": []
    },
    {
      "cell_type": "code",
      "source": [
        "ga.best_solution.chromosome"
      ],
      "metadata": {
        "colab": {
          "base_uri": "https://localhost:8080/"
        },
        "id": "lonY_2du1V7h",
        "outputId": "7a5f1159-fae0-44a0-9a3e-012f53b1bf84"
      },
      "execution_count": 48,
      "outputs": [
        {
          "output_type": "execute_result",
          "data": {
            "text/plain": [
              "['0', '0', '1', '1', '0', '0', '1', '1', '0', '0', '0', '0', '1', '1']"
            ]
          },
          "metadata": {},
          "execution_count": 48
        }
      ]
    },
    {
      "cell_type": "code",
      "source": [
        "sum=ga.sum_evaluations()\n",
        "print('sum of evaluation: ',sum)\n"
      ],
      "metadata": {
        "colab": {
          "base_uri": "https://localhost:8080/"
        },
        "id": "58tGM06w1gYN",
        "outputId": "473cf9d7-b094-4ebd-df81-16e6d5cde449"
      },
      "execution_count": 50,
      "outputs": [
        {
          "output_type": "stream",
          "name": "stdout",
          "text": [
            "sum of evaluation:  150842.74\n"
          ]
        }
      ]
    },
    {
      "cell_type": "code",
      "source": [
        "random()*sum"
      ],
      "metadata": {
        "id": "vd9p2yTp1eTm"
      },
      "execution_count": null,
      "outputs": []
    },
    {
      "cell_type": "code",
      "source": [
        "parent1=ga.select_parent(sum)\n",
        "print(parent1)"
      ],
      "metadata": {
        "id": "dL5wGTZrV745"
      },
      "execution_count": null,
      "outputs": []
    },
    {
      "cell_type": "code",
      "source": [
        "parent2=ga.select_parent(sum)\n",
        "print(parent2)"
      ],
      "metadata": {
        "id": "KNEDeWsfXli4"
      },
      "execution_count": null,
      "outputs": []
    },
    {
      "cell_type": "code",
      "source": [
        "new_population=[]\n",
        "mutation_probability=0.05\n",
        "for new_indivaduals in range(0,ga.population_size,2):\n",
        "  parent1=ga.select_parent(sum)\n",
        "  parent2=ga.select_parent(sum)\n",
        "  print('\\n' ,parent1,parent2)\n",
        "\n",
        "  print(ga.population[parent1].chromosome)\n",
        "  print(ga.population[parent2].chromosome)\n",
        "  children=ga.population[parent1].crossover(ga.population[parent2])\n",
        "  print(children[0].chromosome)\n",
        "  print(children[1].chromosome)\n",
        "  new_population.append(children[0].mutation(mutation_probability))\n",
        "  new_population.append(children[1].mutation(mutation_probability))"
      ],
      "metadata": {
        "colab": {
          "base_uri": "https://localhost:8080/"
        },
        "id": "oHQbdurtbcA9",
        "outputId": "d380f50a-01a4-4cad-f6e6-32133c00c54d"
      },
      "execution_count": 52,
      "outputs": [
        {
          "output_type": "stream",
          "name": "stdout",
          "text": [
            "\n",
            " 12 10\n",
            "['0', '1', '0', '0', '0', '0', '1', '0', '1', '0', '0', '1', '1', '0']\n",
            "['1', '1', '0', '0', '0', '0', '1', '1', '0', '0', '0', '1', '0', '1']\n",
            "['1', '1', '0', '0', '0', '0', '1', '1', '0', '0', '0', '1', '1', '0']\n",
            "['0', '1', '0', '0', '0', '0', '1', '0', '1', '0', '0', '1', '0', '1']\n",
            "\n",
            " 8 7\n",
            "['0', '0', '0', '1', '1', '0', '0', '0', '1', '1', '0', '0', '1', '0']\n",
            "['0', '1', '0', '0', '1', '0', '0', '0', '1', '1', '1', '1', '1', '0']\n",
            "['0', '1', '0', '0', '1', '0', '0', '0', '1', '1', '0', '0', '1', '0']\n",
            "['0', '0', '0', '1', '1', '0', '0', '0', '1', '1', '1', '1', '1', '0']\n",
            "\n",
            " 10 10\n",
            "['1', '1', '0', '0', '0', '0', '1', '1', '0', '0', '0', '1', '0', '1']\n",
            "['1', '1', '0', '0', '0', '0', '1', '1', '0', '0', '0', '1', '0', '1']\n",
            "['1', '1', '0', '0', '0', '0', '1', '1', '0', '0', '0', '1', '0', '1']\n",
            "['1', '1', '0', '0', '0', '0', '1', '1', '0', '0', '0', '1', '0', '1']\n",
            "\n",
            " 13 3\n",
            "['1', '1', '0', '0', '0', '0', '0', '0', '0', '0', '0', '1', '0', '0']\n",
            "['1', '1', '1', '0', '1', '0', '0', '0', '0', '1', '0', '1', '1', '0']\n",
            "['1', '1', '1', '0', '1', '0', '0', '0', '0', '0', '0', '1', '0', '0']\n",
            "['1', '1', '0', '0', '0', '0', '0', '0', '0', '1', '0', '1', '1', '0']\n",
            "\n",
            " 1 11\n",
            "['0', '0', '1', '1', '0', '0', '1', '1', '0', '0', '0', '0', '1', '1']\n",
            "['1', '0', '0', '1', '0', '0', '0', '0', '0', '1', '0', '0', '1', '0']\n",
            "['1', '0', '0', '1', '0', '0', '0', '1', '0', '0', '0', '0', '1', '1']\n",
            "['0', '0', '1', '1', '0', '0', '1', '0', '0', '1', '0', '0', '1', '0']\n",
            "\n",
            " 8 7\n",
            "['0', '0', '0', '1', '1', '0', '0', '0', '1', '1', '0', '0', '1', '0']\n",
            "['0', '1', '0', '0', '1', '0', '0', '0', '1', '1', '1', '1', '1', '0']\n",
            "['0', '1', '0', '0', '1', '0', '0', '0', '1', '1', '0', '0', '1', '0']\n",
            "['0', '0', '0', '1', '1', '0', '0', '0', '1', '1', '1', '1', '1', '0']\n",
            "\n",
            " 0 4\n",
            "['0', '1', '1', '1', '1', '1', '0', '0', '0', '0', '0', '0', '1', '0']\n",
            "['1', '0', '0', '0', '1', '1', '0', '0', '0', '1', '0', '1', '0', '1']\n",
            "['1', '0', '0', '0', '1', '1', '0', '0', '0', '1', '0', '1', '0', '1']\n",
            "['0', '1', '1', '1', '1', '1', '0', '0', '0', '0', '0', '0', '1', '0']\n",
            "\n",
            " 8 6\n",
            "['0', '0', '0', '1', '1', '0', '0', '0', '1', '1', '0', '0', '1', '0']\n",
            "['0', '0', '0', '0', '0', '1', '0', '0', '0', '0', '1', '1', '1', '1']\n",
            "['0', '0', '0', '1', '1', '0', '0', '0', '1', '1', '0', '0', '1', '0']\n",
            "['0', '0', '0', '0', '0', '1', '0', '0', '0', '0', '1', '1', '1', '1']\n",
            "\n",
            " 5 10\n",
            "['0', '1', '0', '1', '0', '0', '0', '0', '1', '0', '0', '1', '0', '1']\n",
            "['1', '1', '0', '0', '0', '0', '1', '1', '0', '0', '0', '1', '0', '1']\n",
            "['1', '1', '0', '0', '0', '0', '1', '0', '1', '0', '0', '1', '0', '1']\n",
            "['0', '1', '0', '1', '0', '0', '0', '1', '0', '0', '0', '1', '0', '1']\n",
            "\n",
            " 5 5\n",
            "['0', '1', '0', '1', '0', '0', '0', '0', '1', '0', '0', '1', '0', '1']\n",
            "['0', '1', '0', '1', '0', '0', '0', '0', '1', '0', '0', '1', '0', '1']\n",
            "['0', '1', '0', '1', '0', '0', '0', '0', '1', '0', '0', '1', '0', '1']\n",
            "['0', '1', '0', '1', '0', '0', '0', '0', '1', '0', '0', '1', '0', '1']\n"
          ]
        }
      ]
    },
    {
      "cell_type": "code",
      "source": [
        "ga.visualize_generation()"
      ],
      "metadata": {
        "id": "JELm5Sn9ifcS"
      },
      "execution_count": null,
      "outputs": []
    },
    {
      "cell_type": "markdown",
      "source": [
        "# Putting all together"
      ],
      "metadata": {
        "id": "Z97sdOrZj6ut"
      }
    },
    {
      "cell_type": "code",
      "metadata": {
        "colab": {
          "base_uri": "https://localhost:8080/"
        },
        "id": "oGBEqpNUkVYM",
        "outputId": "a5a6d0bf-aa3e-447f-901f-5ab27f94fe0e"
      },
      "source": [
        "products_list = []\n",
        "products_list.append(Product(\"Refrigerator A\", 0.751, 999.90))\n",
        "products_list.append(Product(\"Cell phone\", 0.0000899, 2911.12))\n",
        "products_list.append(Product(\"TV 55' \", 0.400, 4346.99))\n",
        "products_list.append(Product(\"TV 50' \", 0.290, 3999.90))\n",
        "products_list.append(Product(\"TV 42' \", 0.200, 2999.00))\n",
        "products_list.append(Product(\"Notebook A\", 0.00350, 2499.90))\n",
        "products_list.append(Product(\"Ventilator\", 0.496, 199.90))\n",
        "products_list.append(Product(\"Microwave A\", 0.0424, 308.66))\n",
        "products_list.append(Product(\"Microwave B\", 0.0544, 429.90))\n",
        "products_list.append(Product(\"Microwave C\", 0.0319, 299.29))\n",
        "products_list.append(Product(\"Refrigerator B\", 0.635, 849.00))\n",
        "products_list.append(Product(\"Refrigerator C\", 0.870, 1199.89))\n",
        "products_list.append(Product(\"Notebook B\", 0.498, 1999.90))\n",
        "products_list.append(Product(\"Notebook C\", 0.527, 3999.00))\n",
        "spaces = []\n",
        "prices = []\n",
        "names = []\n",
        "for product in products_list:\n",
        "  spaces.append(product.space)\n",
        "  prices.append(product.price)\n",
        "  names.append(product.name)\n",
        "limit = 3\n",
        "population_size = 20\n",
        "mutation_probability = 0.01\n",
        "number_of_generations = 100\n",
        "ga = GeneticAlgorithm(population_size)\n",
        "result = ga.solve(mutation_probability, number_of_generations, spaces, prices, limit)\n",
        "print(result)\n",
        "for i in range(len(products_list)):\n",
        "  if result[i] == '1':\n",
        "    print('Name: ', products_list[i].name, ' - Price: ', products_list[i].price)"
      ],
      "execution_count": 58,
      "outputs": [
        {
          "output_type": "stream",
          "name": "stdout",
          "text": [
            "Generation:  0 Total price:  21213.760000000002 Space:  2.4278899 Chromosome:  ['0', '1', '1', '1', '0', '1', '0', '1', '0', '1', '1', '0', '1', '1']\n",
            "Generation:  1 Total price:  21105.0 Space:  2.8814899 Chromosome:  ['0', '1', '1', '1', '0', '1', '1', '0', '0', '1', '1', '0', '1', '1']\n",
            "Generation:  2 Total price:  24642.660000000003 Space:  2.6822899 Chromosome:  ['0', '1', '1', '1', '1', '1', '0', '1', '1', '1', '1', '0', '1', '1']\n",
            "Generation:  3 Total price:  24212.760000000002 Space:  2.6278899000000004 Chromosome:  ['0', '1', '1', '1', '1', '1', '0', '1', '0', '1', '1', '0', '1', '1']\n",
            "Generation:  4 Total price:  24212.760000000002 Space:  2.6278899000000004 Chromosome:  ['0', '1', '1', '1', '1', '1', '0', '1', '0', '1', '1', '0', '1', '1']\n",
            "Generation:  5 Total price:  24212.760000000002 Space:  2.6278899000000004 Chromosome:  ['0', '1', '1', '1', '1', '1', '0', '1', '0', '1', '1', '0', '1', '1']\n",
            "Generation:  6 Total price:  21955.8 Space:  2.2905899 Chromosome:  ['0', '1', '1', '1', '1', '1', '0', '0', '0', '0', '0', '1', '0', '1']\n",
            "Generation:  7 Total price:  24212.760000000002 Space:  2.6278899000000004 Chromosome:  ['0', '1', '1', '1', '1', '1', '0', '1', '0', '1', '1', '0', '1', '1']\n",
            "Generation:  8 Total price:  24212.760000000002 Space:  2.6278899000000004 Chromosome:  ['0', '1', '1', '1', '1', '1', '0', '1', '0', '1', '1', '0', '1', '1']\n",
            "Generation:  9 Total price:  24212.760000000002 Space:  2.6278899000000004 Chromosome:  ['0', '1', '1', '1', '1', '1', '0', '1', '0', '1', '1', '0', '1', '1']\n",
            "Generation:  10 Total price:  23955.7 Space:  2.7885899 Chromosome:  ['0', '1', '1', '1', '1', '1', '0', '0', '0', '0', '0', '1', '1', '1']\n",
            "Generation:  11 Total price:  24212.760000000002 Space:  2.6278899000000004 Chromosome:  ['0', '1', '1', '1', '1', '1', '0', '1', '0', '1', '1', '0', '1', '1']\n",
            "Generation:  12 Total price:  23604.81 Space:  2.5535899000000004 Chromosome:  ['0', '1', '1', '1', '1', '1', '0', '0', '0', '0', '1', '0', '1', '1']\n",
            "Generation:  13 Total price:  24343.370000000003 Space:  2.6503899000000004 Chromosome:  ['0', '1', '1', '1', '1', '1', '0', '1', '1', '0', '1', '0', '1', '1']\n",
            "Generation:  14 Total price:  24343.370000000003 Space:  2.6503899000000004 Chromosome:  ['0', '1', '1', '1', '1', '1', '0', '1', '1', '0', '1', '0', '1', '1']\n",
            "Generation:  15 Total price:  24694.260000000002 Space:  2.8853899 Chromosome:  ['0', '1', '1', '1', '1', '1', '0', '1', '1', '0', '0', '1', '1', '1']\n",
            "Generation:  16 Total price:  24694.260000000002 Space:  2.8853899 Chromosome:  ['0', '1', '1', '1', '1', '1', '0', '1', '1', '0', '0', '1', '1', '1']\n",
            "Generation:  17 Total price:  24694.260000000002 Space:  2.8853899 Chromosome:  ['0', '1', '1', '1', '1', '1', '0', '1', '1', '0', '0', '1', '1', '1']\n",
            "Generation:  18 Total price:  24694.260000000002 Space:  2.8853899 Chromosome:  ['0', '1', '1', '1', '1', '1', '0', '1', '1', '0', '0', '1', '1', '1']\n",
            "Generation:  19 Total price:  24563.65 Space:  2.8628899 Chromosome:  ['0', '1', '1', '1', '1', '1', '0', '1', '0', '1', '0', '1', '1', '1']\n",
            "Generation:  20 Total price:  24034.710000000003 Space:  2.6079898999999997 Chromosome:  ['0', '1', '1', '1', '1', '1', '0', '0', '1', '0', '1', '0', '1', '1']\n",
            "Generation:  21 Total price:  24034.710000000003 Space:  2.6079898999999997 Chromosome:  ['0', '1', '1', '1', '1', '1', '0', '0', '1', '0', '1', '0', '1', '1']\n",
            "Generation:  22 Total price:  23955.7 Space:  2.7885899 Chromosome:  ['0', '1', '1', '1', '1', '1', '0', '0', '0', '0', '0', '1', '1', '1']\n",
            "Generation:  23 Total price:  24343.370000000003 Space:  2.6503899000000004 Chromosome:  ['0', '1', '1', '1', '1', '1', '0', '1', '1', '0', '1', '0', '1', '1']\n",
            "Generation:  24 Total price:  24343.370000000003 Space:  2.6503899000000004 Chromosome:  ['0', '1', '1', '1', '1', '1', '0', '1', '1', '0', '1', '0', '1', '1']\n",
            "Generation:  25 Total price:  23904.100000000002 Space:  2.5854899 Chromosome:  ['0', '1', '1', '1', '1', '1', '0', '0', '0', '1', '1', '0', '1', '1']\n",
            "Generation:  26 Total price:  24343.370000000003 Space:  2.6503899000000004 Chromosome:  ['0', '1', '1', '1', '1', '1', '0', '1', '1', '0', '1', '0', '1', '1']\n",
            "Generation:  27 Total price:  24343.370000000003 Space:  2.6503899000000004 Chromosome:  ['0', '1', '1', '1', '1', '1', '0', '1', '1', '0', '1', '0', '1', '1']\n",
            "Generation:  28 Total price:  24343.370000000003 Space:  2.6503899000000004 Chromosome:  ['0', '1', '1', '1', '1', '1', '0', '1', '1', '0', '1', '0', '1', '1']\n",
            "Generation:  29 Total price:  24343.370000000003 Space:  2.6503899000000004 Chromosome:  ['0', '1', '1', '1', '1', '1', '0', '1', '1', '0', '1', '0', '1', '1']\n",
            "Generation:  30 Total price:  24343.370000000003 Space:  2.6503899000000004 Chromosome:  ['0', '1', '1', '1', '1', '1', '0', '1', '1', '0', '1', '0', '1', '1']\n",
            "Generation:  31 Total price:  24343.370000000003 Space:  2.6503899000000004 Chromosome:  ['0', '1', '1', '1', '1', '1', '0', '1', '1', '0', '1', '0', '1', '1']\n",
            "Generation:  32 Total price:  24694.260000000002 Space:  2.8853899 Chromosome:  ['0', '1', '1', '1', '1', '1', '0', '1', '1', '0', '0', '1', '1', '1']\n",
            "Generation:  33 Total price:  23913.47 Space:  2.5959899 Chromosome:  ['0', '1', '1', '1', '1', '1', '0', '1', '0', '0', '1', '0', '1', '1']\n",
            "Generation:  34 Total price:  24343.370000000003 Space:  2.6503899000000004 Chromosome:  ['0', '1', '1', '1', '1', '1', '0', '1', '1', '0', '1', '0', '1', '1']\n",
            "Generation:  35 Total price:  23494.370000000003 Space:  2.0153899 Chromosome:  ['0', '1', '1', '1', '1', '1', '0', '1', '1', '0', '0', '0', '1', '1']\n",
            "Generation:  36 Total price:  23913.47 Space:  2.5959899 Chromosome:  ['0', '1', '1', '1', '1', '1', '0', '1', '0', '0', '1', '0', '1', '1']\n",
            "Generation:  37 Total price:  24694.260000000002 Space:  2.8853899 Chromosome:  ['0', '1', '1', '1', '1', '1', '0', '1', '1', '0', '0', '1', '1', '1']\n",
            "Generation:  38 Total price:  24494.270000000004 Space:  2.7663899 Chromosome:  ['1', '1', '1', '1', '1', '1', '0', '1', '1', '0', '0', '0', '1', '1']\n",
            "Generation:  39 Total price:  24494.270000000004 Space:  2.7663899 Chromosome:  ['1', '1', '1', '1', '1', '1', '0', '1', '1', '0', '0', '0', '1', '1']\n",
            "Generation:  40 Total price:  24494.270000000004 Space:  2.7663899 Chromosome:  ['1', '1', '1', '1', '1', '1', '0', '1', '1', '0', '0', '0', '1', '1']\n",
            "Generation:  41 Total price:  24494.270000000004 Space:  2.7663899 Chromosome:  ['1', '1', '1', '1', '1', '1', '0', '1', '1', '0', '0', '0', '1', '1']\n",
            "Generation:  42 Total price:  23755.710000000003 Space:  2.6695899 Chromosome:  ['1', '1', '1', '1', '1', '1', '0', '0', '0', '0', '0', '0', '1', '1']\n",
            "Generation:  43 Total price:  23694.270000000004 Space:  2.5113898999999997 Chromosome:  ['0', '1', '1', '1', '1', '1', '1', '1', '1', '0', '0', '0', '1', '1']\n",
            "Generation:  44 Total price:  24385.600000000002 Space:  2.8429899 Chromosome:  ['0', '1', '1', '1', '1', '1', '0', '0', '1', '0', '0', '1', '1', '1']\n",
            "Generation:  45 Total price:  23694.270000000004 Space:  2.5113898999999997 Chromosome:  ['0', '1', '1', '1', '1', '1', '1', '1', '1', '0', '0', '0', '1', '1']\n",
            "Generation:  46 Total price:  23694.270000000004 Space:  2.5113898999999997 Chromosome:  ['0', '1', '1', '1', '1', '1', '1', '1', '1', '0', '0', '0', '1', '1']\n",
            "Generation:  47 Total price:  23694.270000000004 Space:  2.5113898999999997 Chromosome:  ['0', '1', '1', '1', '1', '1', '1', '1', '1', '0', '0', '0', '1', '1']\n",
            "Generation:  48 Total price:  23694.270000000004 Space:  2.5113898999999997 Chromosome:  ['0', '1', '1', '1', '1', '1', '1', '1', '1', '0', '0', '0', '1', '1']\n",
            "Generation:  49 Total price:  24264.36 Space:  2.8309899 Chromosome:  ['0', '1', '1', '1', '1', '1', '0', '1', '0', '0', '0', '1', '1', '1']\n",
            "Generation:  50 Total price:  23694.270000000004 Space:  2.5113898999999997 Chromosome:  ['0', '1', '1', '1', '1', '1', '1', '1', '1', '0', '0', '0', '1', '1']\n",
            "Generation:  51 Total price:  24034.710000000003 Space:  2.6079898999999997 Chromosome:  ['0', '1', '1', '1', '1', '1', '0', '0', '1', '0', '1', '0', '1', '1']\n",
            "Generation:  52 Total price:  24034.710000000003 Space:  2.6079898999999997 Chromosome:  ['0', '1', '1', '1', '1', '1', '0', '0', '1', '0', '1', '0', '1', '1']\n",
            "Generation:  53 Total price:  24034.710000000003 Space:  2.6079898999999997 Chromosome:  ['0', '1', '1', '1', '1', '1', '0', '0', '1', '0', '1', '0', '1', '1']\n",
            "Generation:  54 Total price:  24034.710000000003 Space:  2.6079898999999997 Chromosome:  ['0', '1', '1', '1', '1', '1', '0', '0', '1', '0', '1', '0', '1', '1']\n",
            "Generation:  55 Total price:  24034.710000000003 Space:  2.6079898999999997 Chromosome:  ['0', '1', '1', '1', '1', '1', '0', '0', '1', '0', '1', '0', '1', '1']\n",
            "Generation:  56 Total price:  24343.370000000003 Space:  2.6503899000000004 Chromosome:  ['0', '1', '1', '1', '1', '1', '0', '1', '1', '0', '1', '0', '1', '1']\n",
            "Generation:  57 Total price:  23494.370000000003 Space:  2.0153899 Chromosome:  ['0', '1', '1', '1', '1', '1', '0', '1', '1', '0', '0', '0', '1', '1']\n",
            "Generation:  58 Total price:  24343.370000000003 Space:  2.6503899000000004 Chromosome:  ['0', '1', '1', '1', '1', '1', '0', '1', '1', '0', '1', '0', '1', '1']\n",
            "Generation:  59 Total price:  24343.370000000003 Space:  2.6503899000000004 Chromosome:  ['0', '1', '1', '1', '1', '1', '0', '1', '1', '0', '1', '0', '1', '1']\n",
            "Generation:  60 Total price:  24642.660000000003 Space:  2.6822899 Chromosome:  ['0', '1', '1', '1', '1', '1', '0', '1', '1', '1', '1', '0', '1', '1']\n",
            "Generation:  61 Total price:  24694.260000000002 Space:  2.8853899 Chromosome:  ['0', '1', '1', '1', '1', '1', '0', '1', '1', '0', '0', '1', '1', '1']\n",
            "Generation:  62 Total price:  24694.260000000002 Space:  2.8853899 Chromosome:  ['0', '1', '1', '1', '1', '1', '0', '1', '1', '0', '0', '1', '1', '1']\n",
            "Generation:  63 Total price:  24694.260000000002 Space:  2.8853899 Chromosome:  ['0', '1', '1', '1', '1', '1', '0', '1', '1', '0', '0', '1', '1', '1']\n",
            "Generation:  64 Total price:  24642.660000000003 Space:  2.6822899 Chromosome:  ['0', '1', '1', '1', '1', '1', '0', '1', '1', '1', '1', '0', '1', '1']\n",
            "Generation:  65 Total price:  24642.660000000003 Space:  2.6822899 Chromosome:  ['0', '1', '1', '1', '1', '1', '0', '1', '1', '1', '1', '0', '1', '1']\n",
            "Generation:  66 Total price:  24694.260000000002 Space:  2.8853899 Chromosome:  ['0', '1', '1', '1', '1', '1', '0', '1', '1', '0', '0', '1', '1', '1']\n",
            "Generation:  67 Total price:  24642.660000000003 Space:  2.6822899 Chromosome:  ['0', '1', '1', '1', '1', '1', '0', '1', '1', '1', '1', '0', '1', '1']\n",
            "Generation:  68 Total price:  24642.660000000003 Space:  2.6822899 Chromosome:  ['0', '1', '1', '1', '1', '1', '0', '1', '1', '1', '1', '0', '1', '1']\n",
            "Generation:  69 Total price:  24642.660000000003 Space:  2.6822899 Chromosome:  ['0', '1', '1', '1', '1', '1', '0', '1', '1', '1', '1', '0', '1', '1']\n",
            "Generation:  70 Total price:  24642.660000000003 Space:  2.6822899 Chromosome:  ['0', '1', '1', '1', '1', '1', '0', '1', '1', '1', '1', '0', '1', '1']\n",
            "Generation:  71 Total price:  24642.660000000003 Space:  2.6822899 Chromosome:  ['0', '1', '1', '1', '1', '1', '0', '1', '1', '1', '1', '0', '1', '1']\n",
            "Generation:  72 Total price:  24642.660000000003 Space:  2.6822899 Chromosome:  ['0', '1', '1', '1', '1', '1', '0', '1', '1', '1', '1', '0', '1', '1']\n",
            "Generation:  73 Total price:  24642.660000000003 Space:  2.6822899 Chromosome:  ['0', '1', '1', '1', '1', '1', '0', '1', '1', '1', '1', '0', '1', '1']\n",
            "Generation:  74 Total price:  22142.760000000002 Space:  2.6787899 Chromosome:  ['0', '1', '1', '1', '1', '0', '0', '1', '1', '1', '1', '0', '1', '1']\n",
            "Generation:  75 Total price:  22142.760000000002 Space:  2.6787899 Chromosome:  ['0', '1', '1', '1', '1', '0', '0', '1', '1', '1', '1', '0', '1', '1']\n",
            "Generation:  76 Total price:  22142.760000000002 Space:  2.6787899 Chromosome:  ['0', '1', '1', '1', '1', '0', '0', '1', '1', '1', '1', '0', '1', '1']\n",
            "Generation:  77 Total price:  22142.760000000002 Space:  2.6787899 Chromosome:  ['0', '1', '1', '1', '1', '0', '0', '1', '1', '1', '1', '0', '1', '1']\n",
            "Generation:  78 Total price:  22142.760000000002 Space:  2.6787899 Chromosome:  ['0', '1', '1', '1', '1', '0', '0', '1', '1', '1', '1', '0', '1', '1']\n",
            "Generation:  79 Total price:  22142.760000000002 Space:  2.6787899 Chromosome:  ['0', '1', '1', '1', '1', '0', '0', '1', '1', '1', '1', '0', '1', '1']\n",
            "Generation:  80 Total price:  22142.760000000002 Space:  2.6787899 Chromosome:  ['0', '1', '1', '1', '1', '0', '0', '1', '1', '1', '1', '0', '1', '1']\n",
            "Generation:  81 Total price:  22142.760000000002 Space:  2.6787899 Chromosome:  ['0', '1', '1', '1', '1', '0', '0', '1', '1', '1', '1', '0', '1', '1']\n",
            "Generation:  82 Total price:  22142.760000000002 Space:  2.6787899 Chromosome:  ['0', '1', '1', '1', '1', '0', '0', '1', '1', '1', '1', '0', '1', '1']\n",
            "Generation:  83 Total price:  22142.760000000002 Space:  2.6787899 Chromosome:  ['0', '1', '1', '1', '1', '0', '0', '1', '1', '1', '1', '0', '1', '1']\n",
            "Generation:  84 Total price:  21843.47 Space:  2.6468899 Chromosome:  ['0', '1', '1', '1', '1', '0', '0', '1', '1', '0', '1', '0', '1', '1']\n",
            "Generation:  85 Total price:  21863.760000000002 Space:  2.7403899000000003 Chromosome:  ['1', '1', '1', '1', '1', '0', '0', '1', '0', '1', '0', '0', '1', '1']\n",
            "Generation:  86 Total price:  22142.760000000002 Space:  2.6787899 Chromosome:  ['0', '1', '1', '1', '1', '0', '0', '1', '1', '1', '1', '0', '1', '1']\n",
            "Generation:  87 Total price:  21843.47 Space:  2.6468899 Chromosome:  ['0', '1', '1', '1', '1', '0', '0', '1', '1', '0', '1', '0', '1', '1']\n",
            "Generation:  88 Total price:  21843.47 Space:  2.6468899 Chromosome:  ['0', '1', '1', '1', '1', '0', '0', '1', '1', '0', '1', '0', '1', '1']\n",
            "Generation:  89 Total price:  24343.370000000003 Space:  2.6503899000000004 Chromosome:  ['0', '1', '1', '1', '1', '1', '0', '1', '1', '0', '1', '0', '1', '1']\n",
            "Generation:  90 Total price:  21843.47 Space:  2.6468899 Chromosome:  ['0', '1', '1', '1', '1', '0', '0', '1', '1', '0', '1', '0', '1', '1']\n",
            "Generation:  91 Total price:  21731.54 Space:  2.6822 Chromosome:  ['0', '0', '1', '1', '1', '1', '0', '1', '1', '1', '1', '0', '1', '1']\n",
            "Generation:  92 Total price:  24642.660000000003 Space:  2.6822899 Chromosome:  ['0', '1', '1', '1', '1', '1', '0', '1', '1', '1', '1', '0', '1', '1']\n",
            "Generation:  93 Total price:  24642.660000000003 Space:  2.6822899 Chromosome:  ['0', '1', '1', '1', '1', '1', '0', '1', '1', '1', '1', '0', '1', '1']\n",
            "Generation:  94 Total price:  24334.000000000004 Space:  2.6398899 Chromosome:  ['0', '1', '1', '1', '1', '1', '0', '0', '1', '1', '1', '0', '1', '1']\n",
            "Generation:  95 Total price:  24034.710000000003 Space:  2.6079898999999997 Chromosome:  ['0', '1', '1', '1', '1', '1', '0', '0', '1', '0', '1', '0', '1', '1']\n",
            "Generation:  96 Total price:  24334.000000000004 Space:  2.6398899 Chromosome:  ['0', '1', '1', '1', '1', '1', '0', '0', '1', '1', '1', '0', '1', '1']\n",
            "Generation:  97 Total price:  24034.710000000003 Space:  2.6079898999999997 Chromosome:  ['0', '1', '1', '1', '1', '1', '0', '0', '1', '0', '1', '0', '1', '1']\n",
            "Generation:  98 Total price:  24334.000000000004 Space:  2.6398899 Chromosome:  ['0', '1', '1', '1', '1', '1', '0', '0', '1', '1', '1', '0', '1', '1']\n",
            "Generation:  99 Total price:  24034.710000000003 Space:  2.6079898999999997 Chromosome:  ['0', '1', '1', '1', '1', '1', '0', '0', '1', '0', '1', '0', '1', '1']\n",
            "Generation:  100 Total price:  24034.710000000003 Space:  2.6079898999999997 Chromosome:  ['0', '1', '1', '1', '1', '1', '0', '0', '1', '0', '1', '0', '1', '1']\n",
            "**** Best solution - Generation:  15 Total price:  24694.260000000002 Space:  2.8853899 Chromosome:  ['0', '1', '1', '1', '1', '1', '0', '1', '1', '0', '0', '1', '1', '1']\n",
            "['0', '1', '1', '1', '1', '1', '0', '1', '1', '0', '0', '1', '1', '1']\n",
            "Name:  Cell phone  - Price:  2911.12\n",
            "Name:  TV 55'   - Price:  4346.99\n",
            "Name:  TV 50'   - Price:  3999.9\n",
            "Name:  TV 42'   - Price:  2999.0\n",
            "Name:  Notebook A  - Price:  2499.9\n",
            "Name:  Microwave A  - Price:  308.66\n",
            "Name:  Microwave B  - Price:  429.9\n",
            "Name:  Refrigerator C  - Price:  1199.89\n",
            "Name:  Notebook B  - Price:  1999.9\n",
            "Name:  Notebook C  - Price:  3999.0\n"
          ]
        }
      ]
    },
    {
      "cell_type": "code",
      "source": [
        "24642.660000000003\n",
        "2.8628899\n",
        "2.8853899"
      ],
      "metadata": {
        "id": "w0TpXXF1Dgrb"
      },
      "execution_count": null,
      "outputs": []
    }
  ]
}