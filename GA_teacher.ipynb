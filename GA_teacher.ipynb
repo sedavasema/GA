{
  "nbformat": 4,
  "nbformat_minor": 0,
  "metadata": {
    "colab": {
      "provenance": [],
      "authorship_tag": "ABX9TyMVP233PG4XDGg3HZHcHfaF",
      "include_colab_link": true
    },
    "kernelspec": {
      "name": "python3",
      "display_name": "Python 3"
    },
    "language_info": {
      "name": "python"
    }
  },
  "cells": [
    {
      "cell_type": "markdown",
      "metadata": {
        "id": "view-in-github",
        "colab_type": "text"
      },
      "source": [
        "<a href=\"https://colab.research.google.com/github/sedavasema/GA/blob/main/GA_teacher.ipynb\" target=\"_parent\"><img src=\"https://colab.research.google.com/assets/colab-badge.svg\" alt=\"Open In Colab\"/></a>"
      ]
    },
    {
      "cell_type": "code",
      "execution_count": 15,
      "metadata": {
        "id": "07ThUehW8YzX"
      },
      "outputs": [],
      "source": [
        "import random\n",
        "import datetime"
      ]
    },
    {
      "cell_type": "code",
      "source": [
        "geneSet='a bcdefghijklmnopqrstuvwxyzABCDEFJHIJKLMNOPQRSTUVWXYZ!'"
      ],
      "metadata": {
        "id": "5efFiYGb9R14"
      },
      "execution_count": 2,
      "outputs": []
    },
    {
      "cell_type": "code",
      "source": [
        "target='Hello my Friends !'"
      ],
      "metadata": {
        "id": "DKl3TLrv-Ov2"
      },
      "execution_count": 3,
      "outputs": []
    },
    {
      "cell_type": "markdown",
      "source": [
        "example for the function   (random.sample , extend  and convert list to string)"
      ],
      "metadata": {
        "id": "pz4y5_h3AfMo"
      }
    },
    {
      "cell_type": "code",
      "source": [
        "random.sample(geneSet,18)"
      ],
      "metadata": {
        "colab": {
          "base_uri": "https://localhost:8080/"
        },
        "id": "IKbRUBvxAAuV",
        "outputId": "77cdbe15-ee06-4f1e-95b7-6bf5558f0fc6"
      },
      "execution_count": null,
      "outputs": [
        {
          "output_type": "execute_result",
          "data": {
            "text/plain": [
              "['n',\n",
              " 'Y',\n",
              " 'J',\n",
              " 'L',\n",
              " 'f',\n",
              " 'c',\n",
              " 'h',\n",
              " 'B',\n",
              " 'k',\n",
              " ' ',\n",
              " 'u',\n",
              " 'b',\n",
              " 'I',\n",
              " 'Z',\n",
              " 'g',\n",
              " 'm',\n",
              " 'l',\n",
              " 'J']"
            ]
          },
          "metadata": {},
          "execution_count": 146
        }
      ]
    },
    {
      "cell_type": "code",
      "source": [
        "testparent=[]\n",
        "testparent=random.sample(geneSet,18)\n",
        "print(testparent)"
      ],
      "metadata": {
        "colab": {
          "base_uri": "https://localhost:8080/"
        },
        "id": "BT04P1GzB9V7",
        "outputId": "36f9c860-a4cc-445c-fcc5-39a6525cb39d"
      },
      "execution_count": null,
      "outputs": [
        {
          "output_type": "stream",
          "name": "stdout",
          "text": [
            "['m', 'r', 'd', 'X', 'S', 'T', 'f', 'N', 'B', ' ', 'v', 'l', 'Z', 'I', 'H', 'i', 'q', 'E']\n"
          ]
        }
      ]
    },
    {
      "cell_type": "code",
      "source": [
        "str_testparent=''.join(testparent)\n",
        "print(str_testparent)"
      ],
      "metadata": {
        "colab": {
          "base_uri": "https://localhost:8080/"
        },
        "id": "48sRDfvkELCi",
        "outputId": "4192dc0a-faca-4847-8a04-fe427830650b"
      },
      "execution_count": null,
      "outputs": [
        {
          "output_type": "stream",
          "name": "stdout",
          "text": [
            "mrdXSTfNB vlZIHiqE\n"
          ]
        }
      ]
    },
    {
      "cell_type": "code",
      "source": [
        "def generat_parent(lenght):\n",
        "  parent=[]\n",
        "  parent=random.sample(geneSet,lenght)\n",
        "  return ''.join(parent)"
      ],
      "metadata": {
        "id": "f0p-rUmw-iS3"
      },
      "execution_count": 4,
      "outputs": []
    },
    {
      "cell_type": "markdown",
      "source": [
        "example for the function (random.randrange)"
      ],
      "metadata": {
        "id": "UbAR3K94HgHU"
      }
    },
    {
      "cell_type": "code",
      "source": [
        "gene=random.sample(geneSet,1)\n",
        "str_gene=''.join(gene)\n",
        "testindex=random.randrange(0,15,1)\n",
        "print(testindex)\n",
        "list_testparent=list(str_testparent)\n",
        "list_testparent[testindex]=str_gene\n",
        "print(list_testparent)\n",
        "str_testparent=''.join(list_testparent)\n",
        "print(str_testparent)"
      ],
      "metadata": {
        "colab": {
          "base_uri": "https://localhost:8080/"
        },
        "id": "0hoyJ8quHx-w",
        "outputId": "ad4cdc4f-b9a5-4bb8-d45b-bcbbc6b129b7"
      },
      "execution_count": null,
      "outputs": [
        {
          "output_type": "stream",
          "name": "stdout",
          "text": [
            "11\n",
            "['z', 'U', 'A', 'X', 'd', 'C', 'M', 'n', 'Y', 'u', 'P', 'F', 'H', 'j', 'l']\n",
            "zUAXdCMnYuPFHjl\n"
          ]
        }
      ]
    },
    {
      "cell_type": "code",
      "source": [
        "def mutation(parent):\n",
        "  gene=random.sample(geneSet,1)\n",
        "  str_gene=''.join(gene)\n",
        "  index=random.randrange(0,len(parent),1)\n",
        "  list_parent=list(parent)\n",
        "  list_parent[index]=str_gene\n",
        "  return ''.join(list_parent)"
      ],
      "metadata": {
        "id": "gjWlF7CIFCxT"
      },
      "execution_count": 5,
      "outputs": []
    },
    {
      "cell_type": "markdown",
      "source": [
        "Test for fitness function"
      ],
      "metadata": {
        "id": "hf_nlmFsVFBg"
      }
    },
    {
      "cell_type": "markdown",
      "source": [
        "this method in wrong"
      ],
      "metadata": {
        "id": "22a5Be_CYRtD"
      }
    },
    {
      "cell_type": "code",
      "source": [
        "common_characters = []\n",
        "\n",
        "for char in str_testparent:\n",
        "      if char in target:\n",
        "          common_characters.append(char)\n",
        "print(str_testparent)\n",
        "print(target)\n",
        "print(common_characters)\n",
        "print(len(common_characters) )"
      ],
      "metadata": {
        "colab": {
          "base_uri": "https://localhost:8080/"
        },
        "id": "P9Vk3WL8VPNQ",
        "outputId": "d3d427fb-174b-4938-fa2c-48e695eb9040"
      },
      "execution_count": null,
      "outputs": [
        {
          "output_type": "stream",
          "name": "stdout",
          "text": [
            "mRQUZIOegdvhuDj\n",
            "Hello Friends !\n",
            "['e', 'd']\n",
            "2\n"
          ]
        }
      ]
    },
    {
      "cell_type": "code",
      "source": [
        "zipcode=zip(bestparent,target)\n",
        "print(tuple(zipcode))"
      ],
      "metadata": {
        "colab": {
          "base_uri": "https://localhost:8080/"
        },
        "id": "rRepdHG1Wgu6",
        "outputId": "88903945-bf9a-4629-acaa-dc5d8a29a865"
      },
      "execution_count": null,
      "outputs": [
        {
          "output_type": "stream",
          "name": "stdout",
          "text": [
            "(('l', 'H'), ('P', 'e'), ('j', 'l'), ('m', 'l'), ('S', 'o'), ('g', ' '), ('d', 'F'), ('a', 'r'), ('t', 'i'), ('q', 'e'), ('p', 'n'), ('y', 'd'), ('Y', 's'), ('J', ' '), ('!', '!'))\n"
          ]
        }
      ]
    },
    {
      "cell_type": "markdown",
      "source": [
        "this method is true"
      ],
      "metadata": {
        "id": "fwtOGbUsgNYJ"
      }
    },
    {
      "cell_type": "code",
      "source": [
        "a='adftyu'\n",
        "b='ayfkko'\n",
        "zipcode=zip(a,b)\n",
        "i=0\n",
        "for expected,actuale in zipcode:\n",
        " print(expected,actuale)\n",
        " if expected==actuale:\n",
        "   i=i+1\n",
        "print(i)"
      ],
      "metadata": {
        "colab": {
          "base_uri": "https://localhost:8080/"
        },
        "id": "hnA9xaaAbCn4",
        "outputId": "ad289cad-4bb5-49a1-e42d-a74dc580f8b6"
      },
      "execution_count": null,
      "outputs": [
        {
          "output_type": "stream",
          "name": "stdout",
          "text": [
            "a a\n",
            "d y\n",
            "f f\n",
            "t k\n",
            "y k\n",
            "u o\n",
            "2\n"
          ]
        }
      ]
    },
    {
      "cell_type": "code",
      "source": [
        "def fitness(parent):\n",
        "   zipcode=zip(parent,target)\n",
        "   i=0\n",
        "   for expected,actuale in (zipcode):\n",
        "      if expected==actuale:\n",
        "        i+=1\n",
        "   return i\n"
      ],
      "metadata": {
        "id": "omFDLW_hQTn4"
      },
      "execution_count": 6,
      "outputs": []
    },
    {
      "cell_type": "code",
      "source": [
        "def display(parent,fitness,timeD):\n",
        "  print('parent is: {0} and fitnes is: {1} and time is:\\t{2}'.format(parent,fitness,timeD))"
      ],
      "metadata": {
        "id": "8211jIF8e8Kc"
      },
      "execution_count": 23,
      "outputs": []
    },
    {
      "cell_type": "code",
      "source": [
        "random.seed()\n",
        "bestparent=generat_parent(len(target))\n",
        "bestfitness=fitness(bestparent)"
      ],
      "metadata": {
        "id": "RUxigigdilat"
      },
      "execution_count": 22,
      "outputs": []
    },
    {
      "cell_type": "code",
      "source": [
        "starttime=datetime.datetime.now()\n",
        "\n",
        "while True:\n",
        "  child=mutation(bestparent)\n",
        "  childfit=fitness(child)\n",
        "  if childfit>=len(target):\n",
        "    timeD=datetime.datetime.now()-starttime\n",
        "    display(child,childfit,timeD)\n",
        "    break\n",
        "  if childfit>bestfitness:\n",
        "    bestparent=child\n",
        "    bestfitness=childfit\n",
        "    timeD=datetime.datetime.now()-starttime\n",
        "    display(bestparent,bestfitness,timeD)\n",
        "  else: continue"
      ],
      "metadata": {
        "colab": {
          "base_uri": "https://localhost:8080/"
        },
        "id": "2LVGJGEhjyfl",
        "outputId": "774842ca-ea02-465b-84a4-7da55e24be88"
      },
      "execution_count": 24,
      "outputs": [
        {
          "output_type": "stream",
          "name": "stdout",
          "text": [
            "parent is: yZroIFhWLMdCePnx u and fitnes is: 2 and time is:\t0:00:00.000562\n",
            "parent is: yZrooFhWLMdCePnx u and fitnes is: 3 and time is:\t0:00:00.003024\n",
            "parent is: yZrooFhW MdCePnx u and fitnes is: 4 and time is:\t0:00:00.005425\n",
            "parent is: yZrloFhW MdCePnx u and fitnes is: 5 and time is:\t0:00:00.006432\n",
            "parent is: yZrloFhW MdCePdx u and fitnes is: 6 and time is:\t0:00:00.009557\n",
            "parent is: yZrlo hW MdCePdx u and fitnes is: 7 and time is:\t0:00:00.010383\n",
            "parent is: yerlo hW MdCePdx u and fitnes is: 8 and time is:\t0:00:00.011150\n",
            "parent is: yerlo hW MrCePdx u and fitnes is: 9 and time is:\t0:00:00.016009\n",
            "parent is: yerlo hW MrCePdx ! and fitnes is: 10 and time is:\t0:00:00.018000\n",
            "parent is: yerlo hy MrCePdx ! and fitnes is: 11 and time is:\t0:00:00.019413\n",
            "parent is: yerlo my MrCePdx ! and fitnes is: 12 and time is:\t0:00:00.020128\n",
            "parent is: yerlo my MriePdx ! and fitnes is: 13 and time is:\t0:00:00.020288\n",
            "parent is: yerlo my MriePds ! and fitnes is: 14 and time is:\t0:00:00.020697\n",
            "parent is: yello my MriePds ! and fitnes is: 15 and time is:\t0:00:00.024662\n",
            "parent is: Hello my MriePds ! and fitnes is: 16 and time is:\t0:00:00.025267\n",
            "parent is: Hello my Mriends ! and fitnes is: 17 and time is:\t0:00:00.029023\n",
            "parent is: Hello my Friends ! and fitnes is: 18 and time is:\t0:00:00.044103\n"
          ]
        }
      ]
    }
  ]
}