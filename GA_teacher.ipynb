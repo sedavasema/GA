{
  "nbformat": 4,
  "nbformat_minor": 0,
  "metadata": {
    "colab": {
      "provenance": [],
      "authorship_tag": "ABX9TyMroytOKv7diw/W0fD8tC26",
      "include_colab_link": true
    },
    "kernelspec": {
      "name": "python3",
      "display_name": "Python 3"
    },
    "language_info": {
      "name": "python"
    }
  },
  "cells": [
    {
      "cell_type": "markdown",
      "metadata": {
        "id": "view-in-github",
        "colab_type": "text"
      },
      "source": [
        "<a href=\"https://colab.research.google.com/github/sedavasema/GA/blob/main/GA_teacher.ipynb\" target=\"_parent\"><img src=\"https://colab.research.google.com/assets/colab-badge.svg\" alt=\"Open In Colab\"/></a>"
      ]
    },
    {
      "cell_type": "code",
      "execution_count": 1,
      "metadata": {
        "id": "07ThUehW8YzX"
      },
      "outputs": [],
      "source": [
        "import random"
      ]
    },
    {
      "cell_type": "code",
      "source": [
        "geneSet='a bcdefghijklmnopqrstuvwxyzABCDEFJHIJKLMNOPQRSTUVWXYZ!'"
      ],
      "metadata": {
        "id": "5efFiYGb9R14"
      },
      "execution_count": 130,
      "outputs": []
    },
    {
      "cell_type": "code",
      "source": [
        "target='Hello my Friends !'"
      ],
      "metadata": {
        "id": "DKl3TLrv-Ov2"
      },
      "execution_count": 136,
      "outputs": []
    },
    {
      "cell_type": "markdown",
      "source": [
        "example for the function   (random.sample , extend  and convert list to string)"
      ],
      "metadata": {
        "id": "pz4y5_h3AfMo"
      }
    },
    {
      "cell_type": "code",
      "source": [
        "random.sample(geneSet,18)"
      ],
      "metadata": {
        "colab": {
          "base_uri": "https://localhost:8080/"
        },
        "id": "IKbRUBvxAAuV",
        "outputId": "77cdbe15-ee06-4f1e-95b7-6bf5558f0fc6"
      },
      "execution_count": 146,
      "outputs": [
        {
          "output_type": "execute_result",
          "data": {
            "text/plain": [
              "['n',\n",
              " 'Y',\n",
              " 'J',\n",
              " 'L',\n",
              " 'f',\n",
              " 'c',\n",
              " 'h',\n",
              " 'B',\n",
              " 'k',\n",
              " ' ',\n",
              " 'u',\n",
              " 'b',\n",
              " 'I',\n",
              " 'Z',\n",
              " 'g',\n",
              " 'm',\n",
              " 'l',\n",
              " 'J']"
            ]
          },
          "metadata": {},
          "execution_count": 146
        }
      ]
    },
    {
      "cell_type": "code",
      "source": [
        "testparent=[]\n",
        "testparent=random.sample(geneSet,18)\n",
        "print(testparent)"
      ],
      "metadata": {
        "colab": {
          "base_uri": "https://localhost:8080/"
        },
        "id": "BT04P1GzB9V7",
        "outputId": "36f9c860-a4cc-445c-fcc5-39a6525cb39d"
      },
      "execution_count": 147,
      "outputs": [
        {
          "output_type": "stream",
          "name": "stdout",
          "text": [
            "['m', 'r', 'd', 'X', 'S', 'T', 'f', 'N', 'B', ' ', 'v', 'l', 'Z', 'I', 'H', 'i', 'q', 'E']\n"
          ]
        }
      ]
    },
    {
      "cell_type": "code",
      "source": [
        "str_testparent=''.join(testparent)\n",
        "print(str_testparent)"
      ],
      "metadata": {
        "colab": {
          "base_uri": "https://localhost:8080/"
        },
        "id": "48sRDfvkELCi",
        "outputId": "4192dc0a-faca-4847-8a04-fe427830650b"
      },
      "execution_count": 148,
      "outputs": [
        {
          "output_type": "stream",
          "name": "stdout",
          "text": [
            "mrdXSTfNB vlZIHiqE\n"
          ]
        }
      ]
    },
    {
      "cell_type": "code",
      "source": [
        "def generat_parent(lenght):\n",
        "  parent=[]\n",
        "  parent=random.sample(geneSet,lenght)\n",
        "  return ''.join(parent)"
      ],
      "metadata": {
        "id": "f0p-rUmw-iS3"
      },
      "execution_count": 13,
      "outputs": []
    },
    {
      "cell_type": "markdown",
      "source": [
        "example for the function (random.randrange)"
      ],
      "metadata": {
        "id": "UbAR3K94HgHU"
      }
    },
    {
      "cell_type": "code",
      "source": [
        "gene=random.sample(geneSet,1)\n",
        "str_gene=''.join(gene)\n",
        "testindex=random.randrange(0,15,1)\n",
        "print(testindex)\n",
        "list_testparent=list(str_testparent)\n",
        "list_testparent[testindex]=str_gene\n",
        "print(list_testparent)\n",
        "str_testparent=''.join(list_testparent)\n",
        "print(str_testparent)"
      ],
      "metadata": {
        "colab": {
          "base_uri": "https://localhost:8080/"
        },
        "id": "0hoyJ8quHx-w",
        "outputId": "ad4cdc4f-b9a5-4bb8-d45b-bcbbc6b129b7"
      },
      "execution_count": 31,
      "outputs": [
        {
          "output_type": "stream",
          "name": "stdout",
          "text": [
            "11\n",
            "['z', 'U', 'A', 'X', 'd', 'C', 'M', 'n', 'Y', 'u', 'P', 'F', 'H', 'j', 'l']\n",
            "zUAXdCMnYuPFHjl\n"
          ]
        }
      ]
    },
    {
      "cell_type": "code",
      "source": [
        "def mutation(parent):\n",
        "  gene=random.sample(geneSet,1)\n",
        "  str_gene=''.join(gene)\n",
        "  index=random.randrange(0,len(parent),1)\n",
        "  list_parent=list(parent)\n",
        "  list_parent[index]=str_gene\n",
        "  return ''.join(list_parent)"
      ],
      "metadata": {
        "id": "gjWlF7CIFCxT"
      },
      "execution_count": 32,
      "outputs": []
    },
    {
      "cell_type": "markdown",
      "source": [
        "Test for fitness function"
      ],
      "metadata": {
        "id": "hf_nlmFsVFBg"
      }
    },
    {
      "cell_type": "markdown",
      "source": [
        "this method in wrong"
      ],
      "metadata": {
        "id": "22a5Be_CYRtD"
      }
    },
    {
      "cell_type": "code",
      "source": [
        "common_characters = []\n",
        "\n",
        "for char in str_testparent:\n",
        "      if char in target:\n",
        "          common_characters.append(char)\n",
        "print(str_testparent)\n",
        "print(target)\n",
        "print(common_characters)\n",
        "print(len(common_characters) )"
      ],
      "metadata": {
        "colab": {
          "base_uri": "https://localhost:8080/"
        },
        "id": "P9Vk3WL8VPNQ",
        "outputId": "d3d427fb-174b-4938-fa2c-48e695eb9040"
      },
      "execution_count": 118,
      "outputs": [
        {
          "output_type": "stream",
          "name": "stdout",
          "text": [
            "mRQUZIOegdvhuDj\n",
            "Hello Friends !\n",
            "['e', 'd']\n",
            "2\n"
          ]
        }
      ]
    },
    {
      "cell_type": "code",
      "source": [
        "zipcode=zip(bestparent,target)\n",
        "print(tuple(zipcode))"
      ],
      "metadata": {
        "colab": {
          "base_uri": "https://localhost:8080/"
        },
        "id": "rRepdHG1Wgu6",
        "outputId": "88903945-bf9a-4629-acaa-dc5d8a29a865"
      },
      "execution_count": 97,
      "outputs": [
        {
          "output_type": "stream",
          "name": "stdout",
          "text": [
            "(('l', 'H'), ('P', 'e'), ('j', 'l'), ('m', 'l'), ('S', 'o'), ('g', ' '), ('d', 'F'), ('a', 'r'), ('t', 'i'), ('q', 'e'), ('p', 'n'), ('y', 'd'), ('Y', 's'), ('J', ' '), ('!', '!'))\n"
          ]
        }
      ]
    },
    {
      "cell_type": "markdown",
      "source": [
        "this method is true"
      ],
      "metadata": {
        "id": "fwtOGbUsgNYJ"
      }
    },
    {
      "cell_type": "code",
      "source": [
        "a='adftyu'\n",
        "b='ayfkko'\n",
        "zipcode=zip(a,b)\n",
        "i=0\n",
        "for expected,actuale in zipcode:\n",
        " print(expected,actuale)\n",
        " if expected==actuale:\n",
        "   i=i+1\n",
        "print(i)"
      ],
      "metadata": {
        "colab": {
          "base_uri": "https://localhost:8080/"
        },
        "id": "hnA9xaaAbCn4",
        "outputId": "ad289cad-4bb5-49a1-e42d-a74dc580f8b6"
      },
      "execution_count": 142,
      "outputs": [
        {
          "output_type": "stream",
          "name": "stdout",
          "text": [
            "a a\n",
            "d y\n",
            "f f\n",
            "t k\n",
            "y k\n",
            "u o\n",
            "2\n"
          ]
        }
      ]
    },
    {
      "cell_type": "code",
      "source": [
        "def fitness(parent):\n",
        "   zipcode=zip(parent,target)\n",
        "   i=0\n",
        "   for expected,actuale in (zipcode):\n",
        "      if expected==actuale:\n",
        "        i+=1\n",
        "   return i\n"
      ],
      "metadata": {
        "id": "omFDLW_hQTn4"
      },
      "execution_count": 149,
      "outputs": []
    },
    {
      "cell_type": "code",
      "source": [
        "def display(parent,fitness):\n",
        "  print(parent)\n",
        "  print(fitness)"
      ],
      "metadata": {
        "id": "8211jIF8e8Kc"
      },
      "execution_count": 125,
      "outputs": []
    },
    {
      "cell_type": "code",
      "source": [
        "bestparent=generat_parent(len(target))\n",
        "bestfitness=fitness(bestparent)"
      ],
      "metadata": {
        "id": "RUxigigdilat"
      },
      "execution_count": 150,
      "outputs": []
    },
    {
      "cell_type": "code",
      "source": [
        "while True:\n",
        "  child=mutation(bestparent)\n",
        "  childfit=fitness(child)\n",
        "  if childfit>=len(target):\n",
        "    display(child,childfit)\n",
        "    break\n",
        "  if childfit>bestfitness:\n",
        "    bestparent=child\n",
        "    bestfitness=childfit\n",
        "    display(bestparent,bestfitness)\n",
        "  else: continue\n",
        "\n",
        "\n"
      ],
      "metadata": {
        "colab": {
          "base_uri": "https://localhost:8080/"
        },
        "id": "2LVGJGEhjyfl",
        "outputId": "e4d9811d-f9ca-48bc-9d11-c1fac1b3a8df"
      },
      "execution_count": 151,
      "outputs": [
        {
          "output_type": "stream",
          "name": "stdout",
          "text": [
            "PKNkOEUxYDBlVjdyfF\n",
            "1\n",
            "PKNlOEUxYDBlVjdyfF\n",
            "2\n",
            "PKNlO UxYDBlVjdyfF\n",
            "3\n",
            "PKNlO UxYDBlVndyfF\n",
            "4\n",
            "PKNlO Ux DBlVndyfF\n",
            "5\n",
            "PKNlO mx DBlVndyfF\n",
            "6\n",
            "PKNlO mx DrlVndyfF\n",
            "7\n",
            "PeNlO mx DrlVndyfF\n",
            "8\n",
            "PeNlO mx DriVndyfF\n",
            "9\n",
            "PeNlO mx FriVndyfF\n",
            "10\n",
            "PellO mx FriVndyfF\n",
            "11\n",
            "PellO mx FriVndy F\n",
            "12\n",
            "Pello mx FriVndy F\n",
            "13\n",
            "Pello mx FriVnds F\n",
            "14\n",
            "Pello mx FriVnds !\n",
            "15\n",
            "Pello my FriVnds !\n",
            "16\n",
            "Hello my FriVnds !\n",
            "17\n",
            "Hello my Friends !\n",
            "18\n"
          ]
        }
      ]
    }
  ]
}