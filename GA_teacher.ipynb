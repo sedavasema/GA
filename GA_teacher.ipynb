{
  "nbformat": 4,
  "nbformat_minor": 0,
  "metadata": {
    "colab": {
      "provenance": [],
      "authorship_tag": "ABX9TyOxgY8vkwCjoptbJfdBiwzk",
      "include_colab_link": true
    },
    "kernelspec": {
      "name": "python3",
      "display_name": "Python 3"
    },
    "language_info": {
      "name": "python"
    }
  },
  "cells": [
    {
      "cell_type": "markdown",
      "metadata": {
        "id": "view-in-github",
        "colab_type": "text"
      },
      "source": [
        "<a href=\"https://colab.research.google.com/github/sedavasema/GA/blob/main/GA_teacher.ipynb\" target=\"_parent\"><img src=\"https://colab.research.google.com/assets/colab-badge.svg\" alt=\"Open In Colab\"/></a>"
      ]
    },
    {
      "cell_type": "code",
      "execution_count": 1,
      "metadata": {
        "id": "07ThUehW8YzX"
      },
      "outputs": [],
      "source": [
        "import random"
      ]
    },
    {
      "cell_type": "code",
      "source": [
        "geneSet='abcdefghijklmnopqrstuvwxyzABCDEFJHIJKLMNOPQRSTUVWXYZ!'"
      ],
      "metadata": {
        "id": "5efFiYGb9R14"
      },
      "execution_count": 2,
      "outputs": []
    },
    {
      "cell_type": "code",
      "source": [
        "target='Hello Friends !'"
      ],
      "metadata": {
        "id": "DKl3TLrv-Ov2"
      },
      "execution_count": 3,
      "outputs": []
    },
    {
      "cell_type": "markdown",
      "source": [
        "example for the function   (random.sample , extend  and convert list to string)"
      ],
      "metadata": {
        "id": "pz4y5_h3AfMo"
      }
    },
    {
      "cell_type": "code",
      "source": [
        "random.sample(geneSet,15)"
      ],
      "metadata": {
        "colab": {
          "base_uri": "https://localhost:8080/"
        },
        "id": "IKbRUBvxAAuV",
        "outputId": "45e566db-bcc2-4198-cd65-4ddddd79480a"
      },
      "execution_count": 5,
      "outputs": [
        {
          "output_type": "execute_result",
          "data": {
            "text/plain": [
              "['u', 'z', 'q', 'f', 'k', 'l', 'H', 'P', 'C', 'M', 'r', 'Y', 'p', 'a', 'w']"
            ]
          },
          "metadata": {},
          "execution_count": 5
        }
      ]
    },
    {
      "cell_type": "code",
      "source": [
        "testparent=[]\n",
        "testparent=random.sample(geneSet,15)\n",
        "print(testparent)"
      ],
      "metadata": {
        "colab": {
          "base_uri": "https://localhost:8080/"
        },
        "id": "BT04P1GzB9V7",
        "outputId": "f71017b1-26e5-4360-c9e6-2457cddda674"
      },
      "execution_count": 25,
      "outputs": [
        {
          "output_type": "stream",
          "name": "stdout",
          "text": [
            "['z', 'U', 'A', 'X', 'd', 'C', 'M', 'n', 'Y', 'u', 'P', 'K', 'H', 'j', 'l']\n"
          ]
        }
      ]
    },
    {
      "cell_type": "code",
      "source": [
        "str_testparent=''.join(testparent)\n",
        "print(str_testparent)"
      ],
      "metadata": {
        "colab": {
          "base_uri": "https://localhost:8080/"
        },
        "id": "48sRDfvkELCi",
        "outputId": "e2c32c98-e1b1-40df-ffbb-8f9fe98b2a0d"
      },
      "execution_count": 26,
      "outputs": [
        {
          "output_type": "stream",
          "name": "stdout",
          "text": [
            "zUAXdCMnYuPKHjl\n"
          ]
        }
      ]
    },
    {
      "cell_type": "code",
      "source": [
        "def generat_parent(lenght):\n",
        "  parent=[]\n",
        "  parent=random.sample(geneSet,lenght)\n",
        "  return ''.join(parent)"
      ],
      "metadata": {
        "id": "f0p-rUmw-iS3"
      },
      "execution_count": 13,
      "outputs": []
    },
    {
      "cell_type": "markdown",
      "source": [
        "example for the function (random.randrange)"
      ],
      "metadata": {
        "id": "UbAR3K94HgHU"
      }
    },
    {
      "cell_type": "code",
      "source": [
        "gene=random.sample(geneSet,1)\n",
        "str_gene=''.join(gene)\n",
        "testindex=random.randrange(0,15,1)\n",
        "print(testindex)\n",
        "list_testparent=list(str_testparent)\n",
        "list_testparent[testindex]=str_gene\n",
        "print(list_testparent)\n",
        "str_testparent=''.join(list_testparent)\n",
        "print(str_testparent)"
      ],
      "metadata": {
        "colab": {
          "base_uri": "https://localhost:8080/"
        },
        "id": "0hoyJ8quHx-w",
        "outputId": "ad4cdc4f-b9a5-4bb8-d45b-bcbbc6b129b7"
      },
      "execution_count": 31,
      "outputs": [
        {
          "output_type": "stream",
          "name": "stdout",
          "text": [
            "11\n",
            "['z', 'U', 'A', 'X', 'd', 'C', 'M', 'n', 'Y', 'u', 'P', 'F', 'H', 'j', 'l']\n",
            "zUAXdCMnYuPFHjl\n"
          ]
        }
      ]
    },
    {
      "cell_type": "code",
      "source": [
        "def mutation(parent):\n",
        "  gene=random.sample(geneSet,1)\n",
        "  str_gene=''.join(gene)\n",
        "  index=random.randrange(0,len(parent),1)\n",
        "  list_parent=list(parent)\n",
        "  list_parent[index]=str_gene\n",
        "  return ''.join(list_parent)"
      ],
      "metadata": {
        "id": "gjWlF7CIFCxT"
      },
      "execution_count": 32,
      "outputs": []
    }
  ]
}