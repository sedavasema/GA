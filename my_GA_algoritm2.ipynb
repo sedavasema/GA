{
  "nbformat": 4,
  "nbformat_minor": 0,
  "metadata": {
    "colab": {
      "provenance": [],
      "authorship_tag": "ABX9TyOAxhgdrcmPkWWwy5v9gtiw",
      "include_colab_link": true
    },
    "kernelspec": {
      "name": "python3",
      "display_name": "Python 3"
    },
    "language_info": {
      "name": "python"
    }
  },
  "cells": [
    {
      "cell_type": "markdown",
      "metadata": {
        "id": "view-in-github",
        "colab_type": "text"
      },
      "source": [
        "<a href=\"https://colab.research.google.com/github/sedavasema/GA/blob/main/my_GA_algoritm2.ipynb\" target=\"_parent\"><img src=\"https://colab.research.google.com/assets/colab-badge.svg\" alt=\"Open In Colab\"/></a>"
      ]
    },
    {
      "cell_type": "code",
      "execution_count": 1,
      "metadata": {
        "id": "jiYMQkl6XVAD"
      },
      "outputs": [],
      "source": [
        "import random"
      ]
    },
    {
      "cell_type": "code",
      "source": [
        "geneset=' abcdefghijklmnopqrstwxyzABCDEFGHIJKLMNOPQRSTWXYZ!'\n",
        "target='Hello Word!'"
      ],
      "metadata": {
        "id": "koZiO2prXWxg"
      },
      "execution_count": 2,
      "outputs": []
    },
    {
      "cell_type": "code",
      "source": [
        "def generate_parent(lenght):\n",
        "  genes=[]\n",
        "  genes.extend(random.sample(geneset,lenght))\n",
        "  return ''.join(genes)"
      ],
      "metadata": {
        "id": "WVYyaSOWXbOu"
      },
      "execution_count": null,
      "outputs": []
    },
    {
      "cell_type": "code",
      "source": [
        "def fitness(genes):\n",
        "  return sum(1 for expected,actual in zip(genes,target)\n",
        "                     if expected==actual  )"
      ],
      "metadata": {
        "id": "SHF3MBgOaQZY"
      },
      "execution_count": null,
      "outputs": []
    },
    {
      "cell_type": "code",
      "source": [
        "def mutation (genes):\n",
        "  index=random.randrange(0,len(genes))\n",
        "  childGenes=list(genes)\n",
        "  newGene,alternate=random.sample(geneset,2)\n",
        "  childGenes[index]=alternate \\\n",
        "        if newGene==childGenes[index] \\\n",
        "        else newGene\n",
        "  return ''.join(childGenes)"
      ],
      "metadata": {
        "id": "qam43rvTbmLw"
      },
      "execution_count": null,
      "outputs": []
    },
    {
      "cell_type": "code",
      "source": [
        "#Display\n",
        "import datetime\n",
        "def display(genes):\n",
        "    timeD=datetime.datetime.now()-startTime\n",
        "    Fitness=fitness(genes)\n",
        "    print(\"{0}\\t{1}\\t{2}\".format(genes,Fitness,str( timeD)))"
      ],
      "metadata": {
        "id": "iAB-IJoodiqU"
      },
      "execution_count": null,
      "outputs": []
    },
    {
      "cell_type": "code",
      "source": [
        "#main\n",
        "\n",
        "random.seed()\n",
        "startTime=datetime.datetime.now()\n",
        "bestparent=generate_parent(len(target))\n",
        "bestFitness=fitness(bestparent)\n",
        "display(bestparent)\n",
        "\n",
        "#Hert Engin GA\n",
        "\n",
        "while True:\n",
        "    child=mutation(bestparent)\n",
        "    childFitness=fitness(child)\n",
        "    if bestFitness >= childFitness :\n",
        "        continue\n",
        "    display(child)\n",
        "    if childFitness >= len(bestparent):\n",
        "        break\n",
        "    bestparent=child\n",
        "    bestFitness=childFitness"
      ],
      "metadata": {
        "colab": {
          "base_uri": "https://localhost:8080/"
        },
        "id": "O_s41deFfFIq",
        "outputId": "e65215c2-bf6e-412b-9290-062503baa55e"
      },
      "execution_count": null,
      "outputs": [
        {
          "output_type": "stream",
          "name": "stdout",
          "text": [
            "LnMlkQpieNa\t1\t0:00:00.000229\n",
            "LnMlkQpieda\t2\t0:00:00.000672\n",
            "LnMlkQWieda\t3\t0:00:00.001344\n",
            "LeMlkQWieda\t4\t0:00:00.001494\n",
            "LeMlk Wieda\t5\t0:00:00.002000\n",
            "LeMlk Wirda\t6\t0:00:00.002538\n",
            "LeMlk Worda\t7\t0:00:00.003563\n",
            "LeMlo Worda\t8\t0:00:00.003728\n",
            "HeMlo Worda\t9\t0:00:00.003768\n",
            "Hello Worda\t10\t0:00:00.011955\n",
            "Hello Word!\t11\t0:00:00.023831\n"
          ]
        }
      ]
    }
  ]
}